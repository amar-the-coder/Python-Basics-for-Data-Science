{
 "cells": [
  {
   "cell_type": "markdown",
   "id": "ebe7b5ce",
   "metadata": {},
   "source": [
    "## How I import .Py Files in Jupyter??"
   ]
  },
  {
   "cell_type": "markdown",
   "id": "3af77150",
   "metadata": {},
   "source": [
    "###### Basically i have a create folder named Amarjeet_Python_Codes in my D Drive. In the that folder i have my .py file named func.py"
   ]
  },
  {
   "cell_type": "code",
   "execution_count": 1,
   "id": "6bcd5bac",
   "metadata": {},
   "outputs": [],
   "source": [
    "## Below given is the code of my func.py just for understanding what code i have written --- \n",
    "\n",
    "# def add(x, y):\n",
    "#     return x + y\n",
    "\n",
    "\n",
    "# def sub(x, y):\n",
    "#     return x - y\n",
    "\n",
    "\n",
    "# def mul(x, y):\n",
    "#     return x * y\n",
    "\n",
    "\n",
    "# def divide(x, y):\n",
    "#     return x / y\n"
   ]
  },
  {
   "cell_type": "markdown",
   "id": "981b4366",
   "metadata": {},
   "source": [
    "# Now the main steps ---\n",
    "\n",
    "## Step 1 : "
   ]
  },
  {
   "cell_type": "code",
   "execution_count": 2,
   "id": "a0c1bd42",
   "metadata": {},
   "outputs": [
    {
     "name": "stdout",
     "output_type": "stream",
     "text": [
      "['C:\\\\Users\\\\amarj\\\\Alabs Python Codes\\\\a4. Self Practice python', 'C:\\\\Users\\\\amarj\\\\anaconda3\\\\python311.zip', 'C:\\\\Users\\\\amarj\\\\anaconda3\\\\DLLs', 'C:\\\\Users\\\\amarj\\\\anaconda3\\\\Lib', 'C:\\\\Users\\\\amarj\\\\anaconda3', '', 'C:\\\\Users\\\\amarj\\\\anaconda3\\\\Lib\\\\site-packages', 'C:\\\\Users\\\\amarj\\\\anaconda3\\\\Lib\\\\site-packages\\\\win32', 'C:\\\\Users\\\\amarj\\\\anaconda3\\\\Lib\\\\site-packages\\\\win32\\\\lib', 'C:\\\\Users\\\\amarj\\\\anaconda3\\\\Lib\\\\site-packages\\\\Pythonwin']\n"
     ]
    }
   ],
   "source": [
    "import sys\n",
    "print(sys.path) ## no need to write this. just to check the paths of anaconda files"
   ]
  },
  {
   "cell_type": "markdown",
   "id": "205c2440",
   "metadata": {},
   "source": [
    "## Step 2 :\n",
    "\n",
    "### Jupyter does not know the path of my .py file as it in my D: drive. and u know juypter is always in C: Directory. So i have to add my folder path in the sys path of anaconda\n",
    "\n",
    "\n",
    "#### There are many ways to do this but the easiest way is sys.path.append\n",
    "\n",
    "###### Syntax -- sys.path.append('the path of folder containing the py file')"
   ]
  },
  {
   "cell_type": "code",
   "execution_count": 3,
   "id": "b98e48ec",
   "metadata": {},
   "outputs": [],
   "source": [
    "sys.path.append('D:\\Amarjeet_Python_Codes')"
   ]
  },
  {
   "cell_type": "markdown",
   "id": "68837c32",
   "metadata": {},
   "source": [
    "## Step 3 :\n",
    "\n",
    "### import the py file-- \n",
    "\n",
    "###### syntax : import py_file_name"
   ]
  },
  {
   "cell_type": "code",
   "execution_count": 4,
   "id": "7f71c9fa",
   "metadata": {},
   "outputs": [],
   "source": [
    "import func"
   ]
  },
  {
   "cell_type": "markdown",
   "id": "961d3eed",
   "metadata": {},
   "source": [
    "## Now i can use the functionality of my py file \n",
    "\n",
    "###### syntax is : pyFileName.functionName"
   ]
  },
  {
   "cell_type": "code",
   "execution_count": 5,
   "id": "2ac07e01",
   "metadata": {},
   "outputs": [
    {
     "data": {
      "text/plain": [
       "134"
      ]
     },
     "execution_count": 5,
     "metadata": {},
     "output_type": "execute_result"
    }
   ],
   "source": [
    "func.add(100,34)"
   ]
  },
  {
   "cell_type": "code",
   "execution_count": 6,
   "id": "6355dc08",
   "metadata": {},
   "outputs": [
    {
     "data": {
      "text/plain": [
       "690"
      ]
     },
     "execution_count": 6,
     "metadata": {},
     "output_type": "execute_result"
    }
   ],
   "source": [
    "func.diff(781,91)"
   ]
  },
  {
   "cell_type": "code",
   "execution_count": 7,
   "id": "c4cf5e7d",
   "metadata": {},
   "outputs": [
    {
     "data": {
      "text/plain": [
       "782"
      ]
     },
     "execution_count": 7,
     "metadata": {},
     "output_type": "execute_result"
    }
   ],
   "source": [
    "func.product(23,34)"
   ]
  },
  {
   "cell_type": "code",
   "execution_count": 8,
   "id": "ab35595f",
   "metadata": {},
   "outputs": [
    {
     "data": {
      "text/plain": [
       "35.0"
      ]
     },
     "execution_count": 8,
     "metadata": {},
     "output_type": "execute_result"
    }
   ],
   "source": [
    "func.divide(175,5)"
   ]
  },
  {
   "cell_type": "markdown",
   "id": "29646b30",
   "metadata": {},
   "source": [
    "### Now in My folder Amarjeet_Python_Codes. I have make a another sub folder inside it named Packages which has 3 py files. prime,Calcuator and factorial\n",
    "\n",
    "#### To use these pyFiles i have to write like this : \n",
    "###### 1. to import the file ---   from sub-folder_name import pyfileName\n",
    "###### 2. to use the code --- pyFileName.FunctionName\n"
   ]
  },
  {
   "cell_type": "code",
   "execution_count": 9,
   "id": "2ee436f0",
   "metadata": {},
   "outputs": [
    {
     "name": "stdout",
     "output_type": "stream",
     "text": [
      "The 37 is prime\n"
     ]
    }
   ],
   "source": [
    "from Packages import prime  ## here Packages is my subfolder name. yours will be different \n",
    "prime.isprime(37)"
   ]
  },
  {
   "cell_type": "code",
   "execution_count": 10,
   "id": "a946e762",
   "metadata": {},
   "outputs": [
    {
     "name": "stdout",
     "output_type": "stream",
     "text": [
      "the sum is : 732\n",
      "the product is : 16307\n",
      "the difference is : 686\n",
      "the division is : 30.82608695652174\n"
     ]
    }
   ],
   "source": [
    "from Packages import calculator\n",
    "calculator.calculate(709,23)"
   ]
  },
  {
   "cell_type": "code",
   "execution_count": 11,
   "id": "9de35fa8",
   "metadata": {},
   "outputs": [
    {
     "name": "stdout",
     "output_type": "stream",
     "text": [
      "The Factorial is :  3628800\n"
     ]
    }
   ],
   "source": [
    "from Packages import factorial\n",
    "factorial.fact(10)"
   ]
  },
  {
   "cell_type": "markdown",
   "id": "58c4e138",
   "metadata": {},
   "source": [
    "# I hope you got it 😎"
   ]
  },
  {
   "cell_type": "code",
   "execution_count": null,
   "id": "554d2731",
   "metadata": {},
   "outputs": [],
   "source": []
  }
 ],
 "metadata": {
  "kernelspec": {
   "display_name": "Python 3 (ipykernel)",
   "language": "python",
   "name": "python3"
  },
  "language_info": {
   "codemirror_mode": {
    "name": "ipython",
    "version": 3
   },
   "file_extension": ".py",
   "mimetype": "text/x-python",
   "name": "python",
   "nbconvert_exporter": "python",
   "pygments_lexer": "ipython3",
   "version": "3.11.4"
  }
 },
 "nbformat": 4,
 "nbformat_minor": 5
}
