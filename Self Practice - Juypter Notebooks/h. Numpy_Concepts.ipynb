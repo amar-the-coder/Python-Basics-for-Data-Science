{
 "cells": [
  {
   "cell_type": "markdown",
   "id": "6d945df6",
   "metadata": {},
   "source": [
    "# Numpy Basics "
   ]
  },
  {
   "cell_type": "code",
   "execution_count": 1,
   "id": "966dc5be",
   "metadata": {},
   "outputs": [],
   "source": [
    "import numpy as np"
   ]
  },
  {
   "cell_type": "markdown",
   "id": "4c999b6d",
   "metadata": {},
   "source": [
    "# Creation of Array"
   ]
  },
  {
   "cell_type": "code",
   "execution_count": 2,
   "id": "a03d1cc1",
   "metadata": {},
   "outputs": [
    {
     "name": "stdout",
     "output_type": "stream",
     "text": [
      "[ 3  6 37  7]\n",
      "[1 2 3 4 5]\n",
      "[ 3  6 37  7]\n",
      "10\n",
      "[[[[[[[[[[1 2 3 4]]]]]]]]]]\n",
      "[[0. 0. 0. 0. 0.]\n",
      " [0. 0. 0. 0. 0.]]\n",
      "[1. 1. 1. 1.]\n",
      "[ 0  1  2  3  4  5  6  7  8  9 10 11 12 13 14]\n",
      "[ 1.          6.44444444 11.88888889 17.33333333 22.77777778 28.22222222\n",
      " 33.66666667 39.11111111 44.55555556 50.        ]\n",
      "\n",
      "[[1. 0. 0.]\n",
      " [0. 1. 0.]\n",
      " [0. 0. 1.]]\n",
      "[[1. 0. 0. 0. 0. 0. 0. 0. 0. 0.]\n",
      " [0. 1. 0. 0. 0. 0. 0. 0. 0. 0.]\n",
      " [0. 0. 1. 0. 0. 0. 0. 0. 0. 0.]\n",
      " [0. 0. 0. 1. 0. 0. 0. 0. 0. 0.]\n",
      " [0. 0. 0. 0. 1. 0. 0. 0. 0. 0.]\n",
      " [0. 0. 0. 0. 0. 1. 0. 0. 0. 0.]\n",
      " [0. 0. 0. 0. 0. 0. 1. 0. 0. 0.]\n",
      " [0. 0. 0. 0. 0. 0. 0. 1. 0. 0.]\n",
      " [0. 0. 0. 0. 0. 0. 0. 0. 1. 0.]\n",
      " [0. 0. 0. 0. 0. 0. 0. 0. 0. 1.]]\n",
      "[[ 0.00000000e+000  0.00000000e+000  0.00000000e+000 -2.66193215e-310\n",
      "   0.00000000e+000  0.00000000e+000]\n",
      " [ 0.00000000e+000  0.00000000e+000  0.00000000e+000  0.00000000e+000\n",
      "   0.00000000e+000  0.00000000e+000]\n",
      " [ 0.00000000e+000  0.00000000e+000  0.00000000e+000  0.00000000e+000\n",
      "   0.00000000e+000  0.00000000e+000]\n",
      " [ 0.00000000e+000 -2.71625532e-310  0.00000000e+000  0.00000000e+000\n",
      "   0.00000000e+000  0.00000000e+000]]\n",
      "[[1. 0. 0. 0. 0. 0. 0. 0. 0. 0.]\n",
      " [0. 1. 0. 0. 0. 0. 0. 0. 0. 0.]\n",
      " [0. 0. 1. 0. 0. 0. 0. 0. 0. 0.]\n",
      " [0. 0. 0. 1. 0. 0. 0. 0. 0. 0.]\n",
      " [0. 0. 0. 0. 1. 0. 0. 0. 0. 0.]\n",
      " [0. 0. 0. 0. 0. 1. 0. 0. 0. 0.]\n",
      " [0. 0. 0. 0. 0. 0. 1. 0. 0. 0.]\n",
      " [0. 0. 0. 0. 0. 0. 0. 1. 0. 0.]\n",
      " [0. 0. 0. 0. 0. 0. 0. 0. 1. 0.]\n",
      " [0. 0. 0. 0. 0. 0. 0. 0. 0. 1.]]\n"
     ]
    }
   ],
   "source": [
    "## 1. by simply making one\n",
    "\n",
    "myarr = np.array([3,6,37,7])\n",
    "print(myarr)\n",
    "\n",
    "## 2. by using list\n",
    "\n",
    "myarr1 = [1,2,3,4,5]\n",
    "new_arr = np.array(myarr1)\n",
    "print(new_arr)\n",
    "\n",
    "## 3. By user input\n",
    "\n",
    "# l =[]\n",
    "# for i in range(1,5):\n",
    "#     int_i = int(input(\"enter : \"))\n",
    "#     l.append(int_i)\n",
    "\n",
    "# print(np.array(l))\n",
    "\n",
    "## 4. By specifying the array\n",
    "\n",
    "my_arr2 = np.array([3,6,37,7],np.int64)\n",
    "print(my_arr2)\n",
    "\n",
    "## 5. BY specifying the dimensions\n",
    "my_arr3 = np.array([1,2,3,4],ndmin=10)\n",
    "print(my_arr3.ndim)\n",
    "print(my_arr3)\n",
    "\n",
    "## By using numpy Functions\n",
    "\n",
    "## 1. By using Ones, Zeros \n",
    "\n",
    "Zeros = np.zeros((2,5))\n",
    "print(Zeros)\n",
    "\n",
    "Ones = np.ones(4)\n",
    "print(Ones)\n",
    "\n",
    "## 2. By using arange function\n",
    "\n",
    "rng = np.arange(15)\n",
    "print(rng)\n",
    "\n",
    "## 3. By using linspace \n",
    "\n",
    "lspace = np.linspace(1,50,10) ## stop is \n",
    "print(lspace)\n",
    "\n",
    "lspace_2 = np.linspace(1,5,4) \n",
    "print()\n",
    "\n",
    "## 4. By using identity \n",
    "\n",
    "ide = np.identity(3)\n",
    "print(ide)\n",
    "\n",
    "ide_1 = np.eye(10)\n",
    "print(ide_1)\n",
    "\n",
    "## 5. empty\n",
    "\n",
    "emp = np.empty((4,6))\n",
    "print(emp)\n",
    "\n",
    "## 6. emp_like\n",
    "emp_like = np.empty_like(ide_1)\n",
    "print(emp_like)\n"
   ]
  },
  {
   "cell_type": "markdown",
   "id": "05a2cdef",
   "metadata": {},
   "source": [
    "# Types Of Arrays"
   ]
  },
  {
   "cell_type": "code",
   "execution_count": 3,
   "id": "45d54f01",
   "metadata": {},
   "outputs": [],
   "source": [
    "# 1-D = [1,2,3,4]\n",
    "# 2-D = [[1,2,3,4]]\n",
    "# 3-D = [[[1,2,3,4]]]\n",
    "\n",
    "## Creating "
   ]
  },
  {
   "cell_type": "markdown",
   "id": "6bdf26c7",
   "metadata": {},
   "source": [
    "# Creating numpy using Random Numbers\n",
    "#### 1. rand\n",
    "#### 2. randn\n",
    "#### 3. randf\n",
    "#### 4. randint"
   ]
  },
  {
   "cell_type": "code",
   "execution_count": 4,
   "id": "79ccb218",
   "metadata": {},
   "outputs": [
    {
     "name": "stdout",
     "output_type": "stream",
     "text": [
      "[0.60722425 0.74862103 0.40888669 0.15595394]\n",
      "[ 0.86642139  0.41006214  0.20519532  1.61495312 -0.07456893]\n",
      "[14 12  8 14 13]\n",
      "[0.59868442 0.62707464 0.1647426  0.89223865]\n"
     ]
    }
   ],
   "source": [
    "# 1. rand()\n",
    "var = np.random.rand(4)\n",
    "print(var)\n",
    "\n",
    "# 2. randn()\n",
    "var1 = np.random.randn(5)\n",
    "print(var1)\n",
    "\n",
    "# 3. randint()\n",
    "var2 = np.random.randint(5,20,5)\n",
    "print(var2)\n",
    "\n",
    "# 4. ranf()  # generates numbers betwwen [0.0,1.0)\n",
    "var3 = np.random.ranf(4)\n",
    "print(var3)"
   ]
  },
  {
   "cell_type": "markdown",
   "id": "01058a44",
   "metadata": {},
   "source": [
    "# Time Excecution"
   ]
  },
  {
   "cell_type": "code",
   "execution_count": 5,
   "id": "d4dc5608",
   "metadata": {},
   "outputs": [
    {
     "name": "stdout",
     "output_type": "stream",
     "text": [
      "975 ns ± 68.3 ns per loop (mean ± std. dev. of 7 runs, 1,000,000 loops each)\n"
     ]
    }
   ],
   "source": [
    "# numpy executes faster:\n",
    "\n",
    "%timeit [j**4 for j in range(1,9)]"
   ]
  },
  {
   "cell_type": "code",
   "execution_count": 6,
   "id": "f4b1fcb5",
   "metadata": {},
   "outputs": [
    {
     "name": "stdout",
     "output_type": "stream",
     "text": [
      "2.2 µs ± 70.7 ns per loop (mean ± std. dev. of 7 runs, 100,000 loops each)\n"
     ]
    }
   ],
   "source": [
    "%timeit np.arange(1,9)**4"
   ]
  },
  {
   "cell_type": "markdown",
   "id": "9236a000",
   "metadata": {},
   "source": [
    "# Axis"
   ]
  },
  {
   "cell_type": "code",
   "execution_count": 7,
   "id": "a749d3d2",
   "metadata": {},
   "outputs": [
    {
     "name": "stdout",
     "output_type": "stream",
     "text": [
      "[[1 2 3]\n",
      " [4 5 6]\n",
      " [7 1 0]]\n",
      " Columns Wise Sum : [12  8  9]\n",
      " Row Wise Sum : [ 6 15  8]\n"
     ]
    }
   ],
   "source": [
    "x = [[1,2,3],[4,5,6],[7,1,0]]\n",
    "ar = np.array(x)\n",
    "print(ar)\n",
    "## rows are axis = 0 \n",
    "## columns are axis = 1\n",
    "\n",
    "sum_of_rows = ar.sum(axis=0)\n",
    "sum_of_columns = ar.sum(axis=1)  \n",
    "\n",
    "print(f' Columns Wise Sum : {sum_of_rows}')\n",
    "print(f' Row Wise Sum : {sum_of_columns}')\n",
    "\n",
    "## always remember when you have find row wise sum ---- take axis = 0\n",
    "## always remember when you have find row wise sum ---- take axis = 1"
   ]
  },
  {
   "cell_type": "markdown",
   "id": "557ba32b",
   "metadata": {},
   "source": [
    "# Others Small Concepts:: "
   ]
  },
  {
   "cell_type": "code",
   "execution_count": 8,
   "id": "ba82c89e",
   "metadata": {},
   "outputs": [
    {
     "name": "stdout",
     "output_type": "stream",
     "text": [
      "[[1 2 3]\n",
      " [4 5 6]\n",
      " [7 1 0]]\n",
      " The Transpose is : [[1 4 7]\n",
      " [2 5 1]\n",
      " [3 6 0]]\n",
      "\n",
      "Iteration\n",
      "1\n",
      "2\n",
      "3\n",
      "4\n",
      "5\n",
      "6\n",
      "7\n",
      "1\n",
      "0\n",
      "\n",
      "Size of array\n",
      "9\n",
      "\n",
      "The Dimensions of Array : \n",
      "2\n",
      "\n",
      "Total Bytes taken by the array : \n",
      "36\n"
     ]
    }
   ],
   "source": [
    "\n",
    "x = [[1,2,3],[4,5,6],[7,1,0]]\n",
    "ar = np.array(x)\n",
    "print(ar)\n",
    "\n",
    "## For Transpose:\n",
    "print(f' The Transpose is : {ar.T}')\n",
    "\n",
    "## For Iterate: \n",
    "\n",
    "print()\n",
    "print(\"Iteration\")\n",
    "for item in ar.flat:\n",
    "    print(item)\n",
    "    \n",
    "## for finding the size\n",
    "print()\n",
    "print(\"Size of array\")\n",
    "print(ar.size)\n",
    "\n",
    "## for finding the dimensions\n",
    "print()\n",
    "print(\"The Dimensions of Array : \")\n",
    "print(ar.ndim)\n",
    "\n",
    "## for finding the bytes\n",
    "print()\n",
    "print(\"Total Bytes taken by the array : \")\n",
    "print(ar.nbytes)\n"
   ]
  },
  {
   "cell_type": "markdown",
   "id": "5c76560d",
   "metadata": {},
   "source": [
    "# argsmax , argmin , sort "
   ]
  },
  {
   "cell_type": "code",
   "execution_count": 9,
   "id": "8a8c0bc8",
   "metadata": {},
   "outputs": [
    {
     "name": "stdout",
     "output_type": "stream",
     "text": [
      "3\n",
      "0\n",
      "[0 4 1 2 3]\n",
      "\n",
      "[[1 2 3]\n",
      " [4 5 6]\n",
      " [7 1 0]]\n",
      "\n",
      "6\n",
      "\n",
      "8\n",
      "\n",
      "[2 1 1]\n",
      "\n",
      "[2 2 0]\n",
      "\n",
      "[[0 1 2]\n",
      " [0 1 2]\n",
      " [2 1 0]]\n",
      "\n",
      "[[0 2 2]\n",
      " [1 0 0]\n",
      " [2 1 1]]\n"
     ]
    }
   ],
   "source": [
    "## argmax - It is rteurning the index which have the maximum value:-\n",
    "one = np.array([1,3,4,634,2])\n",
    "print(one.argmax())\n",
    "\n",
    "## argmin - It is rteurning the index which have the minimum value:-\n",
    "print(one.argmin())\n",
    "\n",
    "## argsort - It returns the sort based on values & return the indices:- \n",
    "print(one.argsort())\n",
    "\n",
    "print()\n",
    "\n",
    "## Now in 2D \n",
    "\n",
    "y = [[1,2,3],[4,5,6],[7,1,0]]\n",
    "\n",
    "new_y = np.array(y)\n",
    "print(new_y)\n",
    "print()\n",
    "\n",
    "## argsmax\n",
    "print(new_y.argmax())\n",
    "print()\n",
    "\n",
    "## argmin\n",
    "print(new_y.argmin())\n",
    "print()\n",
    "\n",
    "## argmax with axis\n",
    "print(new_y.argmax(axis=0))\n",
    "print()\n",
    "\n",
    "## argmax with axis\n",
    "print(new_y.argmax(axis=1))\n",
    "print()\n",
    "\n",
    "## argsort with axis\n",
    "print(new_y.argsort(axis=1))\n",
    "print()\n",
    "\n",
    "print(new_y.argsort(axis=0))"
   ]
  },
  {
   "cell_type": "markdown",
   "id": "6a391959",
   "metadata": {},
   "source": [
    "# Maths Operations: \n",
    "\n",
    "#### a+b = np.add(a,b)\n",
    "#### a-b = np.subtract(a,b)\n",
    "#### a*b = np.multiply(a,b)\n",
    "#### a/b = np.divide(a,b)\n",
    "#### a%b = np.mod(a,b)\n",
    "#### a**b = np.power(a,b)\n",
    "#### 1/a = np.reciporal\n",
    "#### np.min(x)\n",
    "#### np.max(x)\n",
    "#### np.argmax(x)\n",
    "#### np.sqrt(x)\n",
    "#### np.sin(x)\n",
    "#### np.cos(x)\n",
    "#### np.cumsum(x)"
   ]
  },
  {
   "cell_type": "code",
   "execution_count": 10,
   "id": "1f270d09",
   "metadata": {},
   "outputs": [
    {
     "name": "stdout",
     "output_type": "stream",
     "text": [
      "[[101 102 103]\n",
      " [104 105 106]\n",
      " [107 101 110]]\n",
      "[[ 2  4  4]\n",
      " [ 8  5 12]\n",
      " [15  2 10]]\n",
      "\n",
      "[[ 1  4  3]\n",
      " [16  0 36]\n",
      " [56  1  0]]\n",
      "\n",
      "The Sqrt : \n",
      "[[1.         1.41421356 1.73205081]\n",
      " [2.         2.23606798 2.44948974]\n",
      " [2.64575131 1.         3.16227766]]\n",
      "\n",
      "39\n",
      "10\n",
      "1\n",
      "[[ 2  4  4]\n",
      " [ 8  5 12]\n",
      " [15  2 10]]\n",
      "\n",
      "[[ 0  0  2]\n",
      " [ 0  5  0]\n",
      " [-1  0 10]]\n",
      "\n",
      "[[ 1  4  3]\n",
      " [16  0 36]\n",
      " [56  1  0]]\n",
      "\n",
      "[[1.    1.    3.   ]\n",
      " [1.      inf 1.   ]\n",
      " [0.875 1.      inf]]\n",
      "\n",
      "[[0 0 0]\n",
      " [0 0 0]\n",
      " [7 0 0]]\n",
      "\n",
      "[[      1       4       3]\n",
      " [    256       1   46656]\n",
      " [5764801       1       1]]\n",
      "\n",
      "[[1 0 0]\n",
      " [0 0 0]\n",
      " [0 1 0]]\n",
      "\n",
      "10\n",
      "\n",
      "1\n",
      "\n",
      "0\n",
      "\n",
      "8\n",
      "\n",
      "[[1.         1.41421356 1.73205081]\n",
      " [2.         2.23606798 2.44948974]\n",
      " [2.64575131 1.         3.16227766]]\n",
      "\n",
      "[[ 0.84147098  0.90929743  0.14112001]\n",
      " [-0.7568025  -0.95892427 -0.2794155 ]\n",
      " [ 0.6569866   0.84147098 -0.54402111]]\n",
      "\n",
      "[[ 0.54030231 -0.41614684 -0.9899925 ]\n",
      " [-0.65364362  0.28366219  0.96017029]\n",
      " [ 0.75390225  0.54030231 -0.83907153]]\n",
      "\n",
      "[ 1  3  6 10 15 21 28 29 39]\n",
      "\n"
     ]
    },
    {
     "name": "stderr",
     "output_type": "stream",
     "text": [
      "C:\\Users\\amarj\\AppData\\Local\\Temp\\ipykernel_30420\\1889570109.py:40: RuntimeWarning: divide by zero encountered in divide\n",
      "  print(np.divide(var,var_))\n",
      "C:\\Users\\amarj\\AppData\\Local\\Temp\\ipykernel_30420\\1889570109.py:43: RuntimeWarning: divide by zero encountered in remainder\n",
      "  print(np.mod(var,var_))\n"
     ]
    }
   ],
   "source": [
    "## add \n",
    "var = np.array([[1,2,3],[4,5,6],[7,1,10]])\n",
    "var_ = np.array([[1,2,1],[4,0,6],[8,1,0]])\n",
    "\n",
    "# if i wnat to add just one element\n",
    "var_5= var+100\n",
    "print(var_5)\n",
    "\n",
    "var_1 = var+var_\n",
    "print(var_1)\n",
    "print()\n",
    "\n",
    "## for multiply\n",
    "var_2 = var*var_\n",
    "print(var_2)\n",
    "print()\n",
    "\n",
    "print(\"The Sqrt : \")\n",
    "print(np.sqrt(var))\n",
    "print()\n",
    "## for sum of all elements: - \n",
    "print(var.sum())\n",
    "\n",
    "## for max of all elements:-  \n",
    "print(var.max())\n",
    "\n",
    "## for min of all elements:-  \n",
    "print(var.min())\n",
    "\n",
    "## by using numpy functions\n",
    "print(np.add(var,var_))\n",
    "print()\n",
    "\n",
    "print(np.subtract(var,var_))\n",
    "print()\n",
    "\n",
    "print(np.multiply(var,var_))\n",
    "print()\n",
    "\n",
    "print(np.divide(var,var_))\n",
    "print()\n",
    "\n",
    "print(np.mod(var,var_))\n",
    "print()\n",
    "\n",
    "print(np.power(var,var_))\n",
    "print()\n",
    "\n",
    "print(np.reciprocal(var,var_))\n",
    "print()\n",
    "\n",
    "print(np.max(var))\n",
    "print()\n",
    "\n",
    "print(np.min(var))\n",
    "print()\n",
    "\n",
    "print(np.argmin(var))\n",
    "print()\n",
    "\n",
    "print(np.argmax(var))\n",
    "print()\n",
    "\n",
    "print(np.sqrt(var))\n",
    "print()\n",
    "\n",
    "print(np.sin(var))\n",
    "print()\n",
    "\n",
    "print(np.cos(var))\n",
    "print()\n",
    "\n",
    "print(np.cumsum(var))\n",
    "print()\n"
   ]
  },
  {
   "cell_type": "markdown",
   "id": "b704927b",
   "metadata": {},
   "source": [
    "# Other Concepts: - "
   ]
  },
  {
   "cell_type": "code",
   "execution_count": 11,
   "id": "f4fa304c",
   "metadata": {},
   "outputs": [
    {
     "name": "stdout",
     "output_type": "stream",
     "text": [
      "8\n",
      "(array([0, 0, 0, 1, 1, 1, 2, 2], dtype=int64), array([0, 1, 2, 0, 1, 2, 0, 1], dtype=int64))\n",
      "(array([0, 0, 0, 1, 1, 2, 2], dtype=int64), array([0, 1, 2, 0, 1, 0, 1], dtype=int64))\n"
     ]
    }
   ],
   "source": [
    "## count_non_Zero\n",
    "arr = [[1,2,3],[4,5,6],[7,1,0]]\n",
    "arr = np.array(arr)\n",
    "print(np.count_nonzero(arr))\n",
    "print(np.nonzero(arr))\n",
    "\n",
    "\n",
    "## if i upaate then\n",
    "arr[1,2]=0\n",
    "print(np.nonzero(arr))\n",
    "\n"
   ]
  },
  {
   "cell_type": "markdown",
   "id": "c481e717",
   "metadata": {},
   "source": [
    "# Reshape, Shape, Ravel"
   ]
  },
  {
   "cell_type": "code",
   "execution_count": 12,
   "id": "b762a4a3",
   "metadata": {},
   "outputs": [
    {
     "name": "stdout",
     "output_type": "stream",
     "text": [
      "[ 0  1  2  3  4  5  6  7  8  9 10 11 12 13 14 15 16 17 18 19 20 21 22 23\n",
      " 24 25 26 27 28 29 30 31 32 33 34 35 36 37 38 39 40 41 42 43 44 45 46 47\n",
      " 48 49 50 51 52 53 54 55 56 57 58 59 60 61 62 63 64 65 66 67 68 69 70 71\n",
      " 72 73 74 75 76 77 78 79 80 81 82 83 84 85 86 87 88 89 90 91 92 93 94 95\n",
      " 96 97 98]\n",
      "\n",
      "[[ 0  1  2  3  4  5  6  7  8  9 10 11 12 13 14 15 16 17 18 19 20 21 22 23\n",
      "  24 25 26 27 28 29 30 31 32]\n",
      " [33 34 35 36 37 38 39 40 41 42 43 44 45 46 47 48 49 50 51 52 53 54 55 56\n",
      "  57 58 59 60 61 62 63 64 65]\n",
      " [66 67 68 69 70 71 72 73 74 75 76 77 78 79 80 81 82 83 84 85 86 87 88 89\n",
      "  90 91 92 93 94 95 96 97 98]]\n",
      "\n",
      "[ 0  1  2  3  4  5  6  7  8  9 10 11 12 13 14 15 16 17 18 19 20 21 22 23\n",
      " 24 25 26 27 28 29 30 31 32 33 34 35 36 37 38 39 40 41 42 43 44 45 46 47\n",
      " 48 49 50 51 52 53 54 55 56 57 58 59 60 61 62 63 64 65 66 67 68 69 70 71\n",
      " 72 73 74 75 76 77 78 79 80 81 82 83 84 85 86 87 88 89 90 91 92 93 94 95\n",
      " 96 97 98]\n",
      "\n",
      "[ 0  1  2  3  4  5  6  7  8  9 10 11 12 13 14 15 16 17 18 19 20 21 22 23\n",
      " 24 25 26 27 28 29 30 31 32 33 34 35 36 37 38 39 40 41 42 43 44 45 46 47\n",
      " 48 49 50 51 52 53 54 55 56 57 58 59 60 61 62 63 64 65 66 67 68 69 70 71\n",
      " 72 73 74 75 76 77 78 79 80 81 82 83 84 85 86 87 88 89 90 91 92 93 94 95\n",
      " 96 97 98]\n",
      "(3, 3)\n",
      "[[1]\n",
      " [2]\n",
      " [3]\n",
      " [4]\n",
      " [5]\n",
      " [6]\n",
      " [7]\n",
      " [1]\n",
      " [0]]\n",
      "[1 2 3 4 5 6 7 1 0]\n",
      "[[[ 1  2]\n",
      "  [ 3  4]\n",
      "  [ 5  6]]\n",
      "\n",
      " [[ 7  8]\n",
      "  [ 9 10]\n",
      "  [11 12]]]\n",
      "3\n"
     ]
    }
   ],
   "source": [
    "arr =  np.arange(99)\n",
    "print(arr)\n",
    "print()\n",
    "## It convert array in your desire dimensions\n",
    "\n",
    "my_arr = arr.reshape(3,33)\n",
    "print(my_arr)\n",
    "print()\n",
    "## ravel: - it convert the N Dim Array in 1D Array\n",
    "print(my_arr.ravel())\n",
    "print()\n",
    "print(my_arr.reshape(-1))\n",
    "\n",
    "## Now in 2d array\n",
    "arr = [[1,2,3],[4,5,6],[7,1,0]]\n",
    "arr_new = np.array(arr)\n",
    "\n",
    "print(arr_new.shape)\n",
    "print(arr_new.reshape(9,1))\n",
    "## print(arr_new.ravel())\n",
    "print(arr_new.reshape(-1))\n",
    "\n",
    "new_array = np.array([1,2,3,4,5,6,7,8,9,10,11,12])\n",
    "x1 = new_array.reshape(2,3,2)\n",
    "print(x1)\n",
    "print(x1.ndim)\n"
   ]
  },
  {
   "cell_type": "markdown",
   "id": "ea63cf8e",
   "metadata": {},
   "source": [
    "# Other Concepts : "
   ]
  },
  {
   "cell_type": "code",
   "execution_count": 13,
   "id": "3f15a48c",
   "metadata": {},
   "outputs": [
    {
     "name": "stdout",
     "output_type": "stream",
     "text": [
      "88\n",
      "352\n",
      "16\n"
     ]
    }
   ],
   "source": [
    "## numpy takes less space as compared to array:- \n",
    "import sys\n",
    "\n",
    "py_ar = [0,4,55,2]\n",
    "\n",
    "np_ar = np.array(py_ar)\n",
    "## size of each element of a list\n",
    "print(sys.getsizeof(py_ar))\n",
    "## memmory take by list\n",
    "print(sys.getsizeof(py_ar)*len(py_ar))\n",
    "## memmory take by array\n",
    "print(np_ar.itemsize*np_ar.size)\n"
   ]
  },
  {
   "cell_type": "markdown",
   "id": "ea1ac2c1",
   "metadata": {},
   "source": [
    "# Data Type Conversion"
   ]
  },
  {
   "cell_type": "code",
   "execution_count": 14,
   "id": "6c1f2047",
   "metadata": {},
   "outputs": [
    {
     "name": "stdout",
     "output_type": "stream",
     "text": [
      "Data Type :  int8\n",
      "[ 1  2 34]\n",
      "Data Type :  float32\n",
      "[ 1.  2. 34.]\n",
      "Data Type :  int32\n",
      "Data Type :  float32\n",
      "Data Type :  int32\n",
      "[1 2 3 4]\n",
      "[1. 2. 3. 4.]\n"
     ]
    }
   ],
   "source": [
    "# var = np.array([1,2,3,4,12,13,14,15])  ---- int 32\n",
    "# var = np.array([\"A\",\"S\",\"D\",\"F\"])     ----- string <U1\n",
    "# var = np.array([1.0,1.2,1.3])  ---- float 64\n",
    "# var = np.array([\"A\",\"S\",\"D\",\"F\",,2,3,4,12])  ---- int 32\n",
    "# i = integer\n",
    "# b = boolean\n",
    "# u = unsigned\n",
    "# f = float\n",
    "# c = complex float\n",
    "# t = timedelta\n",
    "# m = datetime\n",
    "# O = object\n",
    "# S = String\n",
    "# U = Unicode String\n",
    "# V = The fixed chunk of memory for type(void)\n",
    "\n",
    "# 1. \n",
    "x = np.array([1,2,34],dtype=np.int8)\n",
    "print(\"Data Type : \",x.dtype)\n",
    "print(x)\n",
    "\n",
    "# 2. \n",
    "x1 = np.array([1,2,34],dtype='f')\n",
    "print(\"Data Type : \",x1.dtype)\n",
    "print(x1)\n",
    "\n",
    "# 3.\n",
    "x2 = np.array([1,2,3,4])\n",
    "new = np.float32(x2)\n",
    "new_one = np.int_(new)\n",
    "\n",
    "\n",
    "print(\"Data Type : \",x2.dtype)\n",
    "print(\"Data Type : \",new.dtype)\n",
    "print(\"Data Type : \",new_one.dtype)\n",
    "\n",
    "# 3. \n",
    "x3 = np.array([1,2,3,4])\n",
    "new_3 = x3.astype(float)\n",
    "print(x3)\n",
    "print(new_3)\n",
    "\n",
    "\n"
   ]
  },
  {
   "cell_type": "markdown",
   "id": "85b008bf",
   "metadata": {},
   "source": [
    "# Indexing and Slicing"
   ]
  },
  {
   "cell_type": "code",
   "execution_count": 15,
   "id": "73f19132",
   "metadata": {},
   "outputs": [
    {
     "name": "stdout",
     "output_type": "stream",
     "text": [
      "9\n",
      "7\n",
      "2 to 5  [8 7 6 5]\n",
      "2 to end  [8 7 6 5 4 3]\n",
      "Start to 5  [9 8 7 6 5]\n",
      "stop  [8 6]\n",
      "[ 0 10  1]\n",
      "[[2 3 4]\n",
      " [3 4 1]]\n",
      "[3 4]\n"
     ]
    }
   ],
   "source": [
    "# in 1D Array\n",
    "var = np.array([9,8,7,6])\n",
    "print(var[0])\n",
    "\n",
    "# in 2D Array\n",
    "var1 = np.array([[9,8,7],[4,5,6]])\n",
    "print(var1[0,2])\n",
    "\n",
    "\n",
    "# slicing in 1D \n",
    "var = np.array([9,8,7,6,5,4,3])\n",
    "print(\"2 to 5 \", var[1:5])\n",
    "print(\"2 to end \", var[1:])\n",
    "print(\"Start to 5 \", var[:5])\n",
    "print(\"stop \", var[1:5:2])\n",
    "\n",
    "a = [[1,2,3,4],[1,3,4,1],[1,0,10,1]]\n",
    "a= np.array(a)\n",
    "print(a[2,1:])\n",
    "print(a[0:2,1:4])\n",
    "print(a[:2,2])\n",
    "\n"
   ]
  },
  {
   "cell_type": "markdown",
   "id": "208fbad6",
   "metadata": {},
   "source": [
    "# iteration"
   ]
  },
  {
   "cell_type": "code",
   "execution_count": 16,
   "id": "8b1b1c84",
   "metadata": {},
   "outputs": [
    {
     "name": "stdout",
     "output_type": "stream",
     "text": [
      "[1 2 3 4]\n",
      "[1 2 3 4]\n",
      "[1 2 3 4]\n",
      "[1 2 3 4]\n",
      "[1 3 4 1]\n",
      "[1 3 4 1]\n",
      "[1 3 4 1]\n",
      "[1 3 4 1]\n",
      "[ 1  0 10  1]\n",
      "[ 1  0 10  1]\n",
      "[ 1  0 10  1]\n",
      "[ 1  0 10  1]\n",
      "9\n",
      "8\n",
      "7\n",
      "6\n",
      "1\n",
      "2\n",
      "3\n",
      "4\n",
      "((0, 0, 0), 9)\n",
      "((0, 0, 1), 8)\n",
      "((0, 0, 2), 7)\n",
      "((0, 0, 3), 6)\n",
      "((0, 1, 0), 1)\n",
      "((0, 1, 1), 2)\n",
      "((0, 1, 2), 3)\n",
      "((0, 1, 3), 4)\n"
     ]
    }
   ],
   "source": [
    "a_ = [[1,2,3,4],[1,3,4,1],[1,0,10,1]]\n",
    "a_new = np.array(a_)\n",
    "# in 2D Array ---\n",
    "for k in a_new :\n",
    "    for l in k:\n",
    "        print(k)\n",
    "\n",
    "# in 3D Array ---\n",
    "# for l in var3:\n",
    "#     for j in i:\n",
    "#         for k in j:\n",
    "#             print(k)\n",
    "\n",
    "\n",
    "# If you do not want to iterate through a nested loop:-\n",
    "\n",
    "var_3 = np.array([[[9,8,7,6],[1,2,3,4]]])\n",
    "\n",
    "for i in np.nditer(var_3):\n",
    "    print(i)\n",
    "\n",
    "# if i want to iterate along with values:-\n",
    "\n",
    "for i in np.ndenumerate(var_3):\n",
    "    print(i)\n",
    "    \n",
    "\n",
    "\n"
   ]
  },
  {
   "cell_type": "markdown",
   "id": "bb5feaa7",
   "metadata": {},
   "source": [
    "# Copy and View"
   ]
  },
  {
   "cell_type": "code",
   "execution_count": 17,
   "id": "a075dd16",
   "metadata": {},
   "outputs": [],
   "source": [
    "# copy - The owns the data \n",
    "#        The copy of an array is a new array\n",
    "#        The Changes made in the copy data does not reflect in the original array.\n",
    "\n",
    "# View - The View does not own the data a view of the original array\n",
    "#        A view of the array\n",
    "#        Any Changes made to the view will affect the original array & any chnages made to the original array will affect the view."
   ]
  },
  {
   "cell_type": "code",
   "execution_count": 18,
   "id": "96813127",
   "metadata": {},
   "outputs": [
    {
     "name": "stdout",
     "output_type": "stream",
     "text": [
      "[9 8 7 6]\n",
      "[9 8 7 6]\n"
     ]
    }
   ],
   "source": [
    "x = np.array([9,8,7,6])\n",
    "copy = x.copy()\n",
    "print(copy)\n",
    "view = x.view()\n",
    "print(view)\n"
   ]
  },
  {
   "cell_type": "markdown",
   "id": "187ae56d",
   "metadata": {},
   "source": [
    "# Join and Split"
   ]
  },
  {
   "cell_type": "code",
   "execution_count": 19,
   "id": "142d1092",
   "metadata": {},
   "outputs": [
    {
     "name": "stdout",
     "output_type": "stream",
     "text": [
      "join\n",
      "[1 2 3 4 9 8 7 6]\n",
      "join\n",
      "[[1 2]\n",
      " [3 4]\n",
      " [9 8]\n",
      " [7 6]]\n",
      "[[1 2 9 8]\n",
      " [3 4 7 6]]\n",
      "[[1 2]\n",
      " [3 4]\n",
      " [9 8]\n",
      " [7 6]]\n",
      "\n",
      "\n",
      "\n",
      "hstack\n",
      "[[1 2 3 4]\n",
      " [9 8 7 6]]\n",
      "vstack\n",
      "[[1 2 3 4]\n",
      " [9 8 7 6]]\n",
      "dstack\n",
      "[[[1 9]\n",
      "  [2 8]\n",
      "  [3 7]\n",
      "  [4 6]]]\n",
      "[1, 2, 3, 4, 5, 6]\n",
      "split\n",
      "[array([1, 2]), array([3, 4]), array([5, 6])]\n",
      "[[1 2]\n",
      " [3 4]\n",
      " [5 4]]\n",
      "[array([[1, 2]]), array([[3, 4]]), array([[5, 4]])]\n",
      "[array([[1],\n",
      "       [3],\n",
      "       [5]]), array([[2],\n",
      "       [4],\n",
      "       [4]]), array([], shape=(3, 0), dtype=int32)]\n"
     ]
    }
   ],
   "source": [
    "var = np.array([1,2,3,4])\n",
    "var_1 = np.array([9,8,7,6])\n",
    "ar = np.concatenate((var,var_1))\n",
    "print('join')\n",
    "print(ar)\n",
    "\n",
    "var = np.array([[1,2],[3,4]])\n",
    "var_1 = np.array([[9,8],[7,6]])\n",
    "ar = np.concatenate((var,var_1))\n",
    "ar_1 = np.concatenate((var,var_1),axis=1)\n",
    "ar_2 = np.concatenate((var,var_1),axis=0)\n",
    "print('join')\n",
    "print(ar)\n",
    "print(ar_1)\n",
    "print(ar_2)\n",
    "print()\n",
    "print()\n",
    "print()\n",
    "## Stack \n",
    "## H_Stack - rows\n",
    "## V_Stack - colums \n",
    "## D_Stack - height\n",
    "stack_1 = np.array([1,2,3,4])\n",
    "stack_2 = np.array([9,8,7,6])\n",
    "print('hstack')\n",
    "new_stack = np.stack([stack_1,stack_2])\n",
    "print(new_stack)\n",
    "\n",
    "print('vstack')\n",
    "new_stack = np.vstack([stack_1,stack_2])\n",
    "print(new_stack)\n",
    "\n",
    "print('dstack')\n",
    "new_stack = np.dstack([stack_1,stack_2])\n",
    "print(new_stack)\n",
    "\n",
    "\n",
    "\n",
    "# Spilt \n",
    "\n",
    "var = [1,2,3,4,5,6]\n",
    "print(var)\n",
    "print('split')\n",
    "ar = np.array_split(var,3)\n",
    "print(ar)\n",
    "\n",
    "var_10 = np.array([[1,2],[3,4],[5,4]])\n",
    "print(var_10)\n",
    "var_10_split = np.array_split(var_10,3)\n",
    "print(var_10_split)\n",
    "\n",
    "# by axis\n",
    "var_10_split_ = np.array_split(var_10,3,axis=1)\n",
    "print(var_10_split_)"
   ]
  },
  {
   "cell_type": "markdown",
   "id": "2dc43da2",
   "metadata": {},
   "source": [
    "# Search, Search Sorted, Sorted array, filter array"
   ]
  },
  {
   "cell_type": "code",
   "execution_count": 20,
   "id": "f7cec800",
   "metadata": {},
   "outputs": [
    {
     "name": "stdout",
     "output_type": "stream",
     "text": [
      "(array([0], dtype=int64),)\n",
      "4\n",
      "[5 6 7]\n",
      "[2 2 2 4 4 5 5 6 7]\n",
      "[[ 2  3  4]\n",
      " [ 1  5 12]\n",
      " [ 6 22 52]]\n",
      "['a' 'f']\n"
     ]
    }
   ],
   "source": [
    "var = np.array([1,2,3,4,5,6,7])\n",
    "# Linear Search ---- it will return the indices where element is present..\n",
    "x=np.where(var==1)\n",
    "print(x)\n",
    "\n",
    "# Search Sorted Array\n",
    "var1 = np.array([1,2,3,4,5,6,7,8])\n",
    "x1 = np.searchsorted(var1,5) # element needs to be sorted\n",
    "x2 = np.searchsorted(var1,[5,6,7],side='right')\n",
    "print(x1)\n",
    "print(x2)\n",
    "\n",
    "# Sort Array\n",
    "var_1 = np.array([4,2,4,2,5,2,5,6,7])\n",
    "print(np.sort(var_1))\n",
    "\n",
    "var_2 = np.array([[4,2,3],[1,12,5],[22,52,6]])\n",
    "print(np.sort(var_2))\n",
    "\n",
    "# Filter Array\n",
    "\n",
    "var_3 = np.array(['a','s','d','f'])\n",
    "F = [True,False,False,True]\n",
    "new_a = var_3[F] ## it will return values which have true in it.\n",
    "print(new_a)"
   ]
  },
  {
   "cell_type": "markdown",
   "id": "51b63953",
   "metadata": {},
   "source": [
    "# Shuffle, Unique, Resize, Flatten"
   ]
  },
  {
   "cell_type": "code",
   "execution_count": 21,
   "id": "d9b86b01",
   "metadata": {},
   "outputs": [
    {
     "name": "stdout",
     "output_type": "stream",
     "text": [
      "[1 4 5 3 2]\n",
      "[1 2 3 4 5 6 7]\n",
      "(array([1, 2, 3, 4, 5, 6, 7, 8]), array([0, 1, 2, 3, 4, 5, 6, 7], dtype=int64), array([1, 1, 1, 1, 1, 1, 1, 1], dtype=int64))\n",
      "[[1 2 3]\n",
      " [4 5 6]]\n",
      "Flatten :  [1 4 2 5 3 6]\n",
      "Ravel :  [1 4 2 5 3 6]\n"
     ]
    }
   ],
   "source": [
    "# Shyffle\n",
    "var = np.array([1,2,3,4,5])\n",
    "np.random.shuffle(var)\n",
    "print(var)\n",
    "\n",
    "# Unique - removing duplicates \n",
    "var = np.array([1,2,3,1,1,1,2,2,3,4,5,6,7])\n",
    "print(np.unique(var))\n",
    "\n",
    "var_ = np.unique(var1,return_index=True,return_counts= True)\n",
    "print(var_)\n",
    "\n",
    "# resize \n",
    "var_2 = np.array([1,2,3,4,5,6])\n",
    "y = np.resize(var_2,(2,3))\n",
    "print(y)\n",
    "\n",
    "print(\"Flatten : \",y.flatten(order='f'))\n",
    "print(\"Ravel : \",np.ravel(y,order='f'))\n",
    "\n"
   ]
  },
  {
   "cell_type": "markdown",
   "id": "109ad109",
   "metadata": {},
   "source": [
    "# insert and delete"
   ]
  },
  {
   "cell_type": "code",
   "execution_count": 22,
   "id": "24ce54df",
   "metadata": {},
   "outputs": [
    {
     "name": "stdout",
     "output_type": "stream",
     "text": [
      "[1 2 3 4]\n",
      "[ 1 40  2 40  3  4]\n",
      "[[ 1  2  3]\n",
      " [22 23 24]\n",
      " [ 1  2  3]]\n",
      "[1.  2.  3.  4.  6.5]\n",
      "[1 2 4]\n"
     ]
    }
   ],
   "source": [
    "var = np.array([1,2,3,4])\n",
    "print(var)\n",
    "v = np.insert(var,(1,2),40) ## same value at multiple index\n",
    "print(v)\n",
    "\n",
    "var_1 = np.array([[1,2,3],[1,2,3]])\n",
    "v_1 = np.insert(var_1,1,[22,23,24],axis=0) ## it will add the values at a partcular row as per the position given\n",
    "print(v_1)\n",
    "\n",
    "# works with append -- \n",
    "x = np.append(var,6.5)\n",
    "print(x)\n",
    "\n",
    "## delete --\n",
    "var_1 = np.array([1,2,3,4])\n",
    "d = np.delete(var_1,2) ## delete the value at givem index\n",
    "print(d)"
   ]
  },
  {
   "cell_type": "markdown",
   "id": "64ee8c29",
   "metadata": {},
   "source": [
    "# MATRIX FUNCTIONS"
   ]
  },
  {
   "cell_type": "code",
   "execution_count": 51,
   "id": "d4934736",
   "metadata": {},
   "outputs": [
    {
     "name": "stdout",
     "output_type": "stream",
     "text": [
      "[[1 2 3]\n",
      " [1 2 3]]\n",
      "[[1 2 3]\n",
      " [1 2 3]]\n",
      "\n",
      "[[1 2 2]\n",
      " [4 5 6]]\n",
      "\n",
      "[[1 4]\n",
      " [2 5]\n",
      " [2 6]]\n"
     ]
    }
   ],
   "source": [
    "mat = np.matrix([[1,2,3],[1,2,3]])\n",
    "mat_2 = np.matrix([[1,2,3],[1,2,3]])\n",
    "print(mat)\n",
    "print(mat_2)\n",
    "print()\n",
    "# # multiply\n",
    "# print(mat*mat_2)\n",
    "# print(mat.dot(mat_2))\n",
    "\n",
    "# \n",
    "var = np.matrix([[1,2,2],[4,5,6]])\n",
    "print(var)\n",
    "print()\n",
    "Arr = var.transpose()\n",
    "print(Arr)\n"
   ]
  },
  {
   "cell_type": "code",
   "execution_count": 53,
   "id": "1b72ba33",
   "metadata": {},
   "outputs": [
    {
     "data": {
      "text/plain": [
       "matrix([[1, 4],\n",
       "        [2, 5],\n",
       "        [2, 6]])"
      ]
     },
     "execution_count": 53,
     "metadata": {},
     "output_type": "execute_result"
    }
   ],
   "source": [
    "## Swapaxes:- \n",
    "\n",
    "np.swapaxes(var,0,1)\n"
   ]
  },
  {
   "cell_type": "code",
   "execution_count": 54,
   "id": "e92c7665",
   "metadata": {},
   "outputs": [
    {
     "name": "stdout",
     "output_type": "stream",
     "text": [
      "[[ 3.15251974e+15 -6.30503948e+15  3.15251974e+15]\n",
      " [-6.30503948e+15  1.26100790e+16 -6.30503948e+15]\n",
      " [ 3.15251974e+15 -6.30503948e+15  3.15251974e+15]]\n"
     ]
    }
   ],
   "source": [
    "## to find the inverse \n",
    "var = np.matrix([[1,2,3],[4,5,6],[7,8,9]])\n",
    "print(np.linalg.inv(var))"
   ]
  },
  {
   "cell_type": "code",
   "execution_count": 55,
   "id": "164adbe0",
   "metadata": {},
   "outputs": [
    {
     "name": "stdout",
     "output_type": "stream",
     "text": [
      "[[1 0 0]\n",
      " [0 1 0]\n",
      " [0 0 1]]\n"
     ]
    }
   ],
   "source": [
    "## to find the power\n",
    "var = np.matrix([[1,2,3],[4,5,6],[7,8,9]])\n",
    "print(np.linalg.matrix_power(var,0))\n",
    "\n",
    "## n= 0 -- identity \n",
    "## n>0 --  power() = A*A\n",
    "## n<0 -- power() = inverse * power\n"
   ]
  },
  {
   "cell_type": "code",
   "execution_count": 59,
   "id": "c398fbda",
   "metadata": {},
   "outputs": [
    {
     "data": {
      "text/plain": [
       "-9.51619735392994e-16"
      ]
     },
     "execution_count": 59,
     "metadata": {},
     "output_type": "execute_result"
    }
   ],
   "source": [
    "## determinat\n",
    "\n",
    "np.linalg.det(var)"
   ]
  },
  {
   "cell_type": "code",
   "execution_count": null,
   "id": "c1c5cd87",
   "metadata": {},
   "outputs": [],
   "source": []
  }
 ],
 "metadata": {
  "kernelspec": {
   "display_name": "Python 3 (ipykernel)",
   "language": "python",
   "name": "python3"
  },
  "language_info": {
   "codemirror_mode": {
    "name": "ipython",
    "version": 3
   },
   "file_extension": ".py",
   "mimetype": "text/x-python",
   "name": "python",
   "nbconvert_exporter": "python",
   "pygments_lexer": "ipython3",
   "version": "3.11.4"
  }
 },
 "nbformat": 4,
 "nbformat_minor": 5
}
