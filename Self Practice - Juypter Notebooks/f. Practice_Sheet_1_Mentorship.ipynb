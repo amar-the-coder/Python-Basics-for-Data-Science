{
 "cells": [
  {
   "cell_type": "code",
   "execution_count": null,
   "id": "a74dae84",
   "metadata": {},
   "outputs": [],
   "source": [
    "# 1)\n",
    "\n",
    "# Write a program to print the following number pattern using a loop.\n",
    "# 1 \n",
    "# 1 2 \n",
    "# 1 2 3 \n",
    "# 1 2 3 4 \n",
    "# 1 2 3 4 5 \n"
   ]
  },
  {
   "cell_type": "code",
   "execution_count": 2,
   "id": "fc60e1e5",
   "metadata": {},
   "outputs": [
    {
     "name": "stdout",
     "output_type": "stream",
     "text": [
      "1 \n",
      "1 2 \n",
      "1 2 3 \n",
      "1 2 3 4 \n",
      "1 2 3 4 5 \n"
     ]
    }
   ],
   "source": [
    "def pattern(n):\n",
    "    \n",
    "    for i in range(n):\n",
    "        p=1\n",
    "        for j in range(i+1):\n",
    "            print(p,end=' ')\n",
    "            p+=1\n",
    "        print()\n",
    "\n",
    "pattern(5)"
   ]
  },
  {
   "cell_type": "code",
   "execution_count": 3,
   "id": "08fa5202",
   "metadata": {},
   "outputs": [],
   "source": [
    "# 2)\n",
    "# Display numbers from a list using loop\n",
    "# # Write a program to display only those numbers from a list that satisfy the following conditions\n",
    "# The number must be divisible by five\n",
    "# If the number is greater than 150, then skip it and move to the next number\n",
    "# If the number is greater than 500, then stop the loop\n",
    "# Given:\n",
    "\n",
    "# numbers = [12, 75, 150, 180, 145, 525, 50]"
   ]
  },
  {
   "cell_type": "code",
   "execution_count": 35,
   "id": "10f78382",
   "metadata": {},
   "outputs": [
    {
     "name": "stdout",
     "output_type": "stream",
     "text": [
      "[75, 150, 145, 50]\n"
     ]
    }
   ],
   "source": [
    "numbers = [12, 75, 150, 180, 145, 525, 50]\n",
    "filtered_list =[]\n",
    "for i in numbers:\n",
    "    if i%5==0:\n",
    "        if i>150:\n",
    "            continue\n",
    "        filtered_list.append(i)\n",
    "        if i>500:\n",
    "            break\n",
    "print(filtered_list)\n",
    "\n",
    "\n",
    "# if i want to do it in just one line using list comprehension\n",
    "\n",
    "filtered_numbers_list = [num for num in numbers if num % 5 == 0 and num <= 500 and num <= 150]"
   ]
  },
  {
   "cell_type": "code",
   "execution_count": 5,
   "id": "ab89a3f2",
   "metadata": {},
   "outputs": [],
   "source": [
    "# 3)\n",
    "# Write a program to count the total number of digits in a number using a while loop."
   ]
  },
  {
   "cell_type": "code",
   "execution_count": 8,
   "id": "ebfab1db",
   "metadata": {},
   "outputs": [
    {
     "name": "stdout",
     "output_type": "stream",
     "text": [
      "enter the number : 567\n",
      "The Number of Digits in 567 is 3\n"
     ]
    }
   ],
   "source": [
    "def count_num(n):\n",
    "    count_digits = 0\n",
    "    while(n!=0):\n",
    "        n=int(n/10)\n",
    "        count_digits+=1   \n",
    "    return count_digits\n",
    "\n",
    "num = int(input(\"enter the number : \"))\n",
    "print(f'The Number of Digits in {num} is {count_num(num)}')"
   ]
  },
  {
   "cell_type": "code",
   "execution_count": 9,
   "id": "836c25c6",
   "metadata": {},
   "outputs": [],
   "source": [
    "# 4)\n",
    "# Write a program to use for loop to print the following reverse number pattern\n",
    "\n",
    "# 5 4 3 2 1 \n",
    "# 4 3 2 1 \n",
    "# 3 2 1 \n",
    "# 2 1 \n",
    "# 1"
   ]
  },
  {
   "cell_type": "code",
   "execution_count": 11,
   "id": "1cf28d8f",
   "metadata": {},
   "outputs": [
    {
     "name": "stdout",
     "output_type": "stream",
     "text": [
      "5 4 3 2 1 \n",
      "4 3 2 1 \n",
      "3 2 1 \n",
      "2 1 \n",
      "1 \n"
     ]
    }
   ],
   "source": [
    "def pattern_(n):\n",
    "    k=n\n",
    "    for i in range(n):\n",
    "        p=k\n",
    "        for j in range(i,n):\n",
    "            print(p,end=' ')\n",
    "            p-=1\n",
    "        k-=1\n",
    "        print()\n",
    "\n",
    "pattern_(5)"
   ]
  },
  {
   "cell_type": "code",
   "execution_count": 12,
   "id": "2c28e65c",
   "metadata": {},
   "outputs": [],
   "source": [
    "# 5)\n",
    "# Write a program to add two lists index-wise. Create a new list that contains the 0th index item from both the list, then the 1st index item, and so on till the last element. any leftover items will get added at the end of the new list.\n",
    "\n",
    "# Given:\n",
    "\n",
    "# list1 = [\"M\", \"na\", \"i\", \"Ke\"]\n",
    "# list2 = [\"y\", \"me\", \"s\", \"lly\"]\n",
    "\n",
    "# Expected output:\n",
    "\n",
    "# ['My', 'name', 'is', 'Kelly']"
   ]
  },
  {
   "cell_type": "code",
   "execution_count": 30,
   "id": "67855fce",
   "metadata": {},
   "outputs": [
    {
     "name": "stdout",
     "output_type": "stream",
     "text": [
      " using loop :  ['My', 'name', 'is', 'Kelly']\n",
      " using lambda : ['My', 'name', 'is', 'Kelly']\n"
     ]
    }
   ],
   "source": [
    "list1 = [\"M\", \"na\", \"i\", \"Ke\"]\n",
    "list2 = [\"y\", \"me\", \"s\", \"lly\"]\n",
    "\n",
    "list3 =[]\n",
    "for i in range(min(len(list1),len(list1))):\n",
    "    list3.append(list1[i]+list2[i])\n",
    "    \n",
    "print(f' using loop :  {list3}')\n",
    "\n",
    "## logic 2:\n",
    "print(f' using lambda : {list(map(lambda x,y:x+y,list1,list2))}')\n",
    "\n",
    "# point to be noted:\n",
    "# if list1 and list2 have different length then we have to write the following lines:\n",
    "\n",
    "# 1. if we want to add the leftover items seperately\n",
    "# If there are leftover items in list1, add them to the result list\n",
    "# result_list.extend(list1[len(list2):])\n",
    "\n",
    "# # If there are leftover items in list2, add them to the result list\n",
    "# result_list.extend(list2[len(list1):])\n",
    "\n",
    "# 2. if we want to add the in just one line \n",
    "# result_list += list1[len(list2):] + list2[len(list1):]"
   ]
  },
  {
   "cell_type": "code",
   "execution_count": 36,
   "id": "61fefdc2",
   "metadata": {},
   "outputs": [],
   "source": [
    "# 6)\n",
    "# Turn every item of a list into its square\n",
    "# Given a list of numbers. write a program to turn every item of a list into its square.\n",
    "\n",
    "# Given:\n",
    "\n",
    "# numbers = [1, 2, 3, 4, 5, 6, 7]\n",
    "\n",
    "# Expected output:\n",
    "\n",
    "# [1, 4, 9, 16, 25, 36, 49]"
   ]
  },
  {
   "cell_type": "code",
   "execution_count": 45,
   "id": "87de4c90",
   "metadata": {},
   "outputs": [
    {
     "name": "stdout",
     "output_type": "stream",
     "text": [
      "\n",
      "using lambda: [1, 4, 9, 16, 25, 36, 49]\n",
      "using loop : [1, 4, 9, 16, 25, 36, 49]\n",
      "[1, 16, 81, 256, 625, 1296, 2401]\n"
     ]
    }
   ],
   "source": [
    "numbers = [1, 2, 3, 4, 5, 6, 7]\n",
    "# using lambda\n",
    "print()\n",
    "print(f'using lambda: {list(map(lambda x:x*x , numbers))}')\n",
    "\n",
    "# using loop\n",
    "for i in range(len(numbers)):\n",
    "    numbers[i]= numbers[i]*numbers[i]\n",
    "print(f'using loop : {numbers}')\n",
    "\n",
    "\n",
    "# using list cpmprehension\n",
    "# squared_numbers = [num ** 2 for num in numbers]\n"
   ]
  },
  {
   "cell_type": "code",
   "execution_count": 46,
   "id": "c8b80440",
   "metadata": {},
   "outputs": [],
   "source": [
    "# 7)\n",
    "# Concatenate two lists in the following order\n",
    "# list1 = [\"Hello \", \"take \"]\n",
    "# list2 = [\"Dear\", \"Sir\"]\n",
    "# Expected output:\n",
    "\n",
    "# ['Hello Dear', 'Hello Sir', 'take Dear', 'take Sir']"
   ]
  },
  {
   "cell_type": "code",
   "execution_count": 50,
   "id": "03b486f7",
   "metadata": {},
   "outputs": [
    {
     "name": "stdout",
     "output_type": "stream",
     "text": [
      "['Hello Dear', 'Hello Sir', 'take Dear', 'take Sir']\n",
      "['Hello Dear', 'Hello Sir', 'take Dear', 'take Sir']\n",
      "[['Hello Dear', 'Hello Sir'], ['take Dear', 'take Sir']]\n"
     ]
    }
   ],
   "source": [
    "list1 = [\"Hello \", \"take \"]\n",
    "list2 = [\"Dear\", \"Sir\"]\n",
    "result_list =[]\n",
    "for i in range(len(list1)):\n",
    "    for j in range(len(list2)):\n",
    "        result_list.append(list1[i]+list2[j])\n",
    "print(result_list)\n",
    "\n",
    "\n",
    "# using list comprehension\n",
    "concatenated_list = [x + y for x in list1 for y in list2]\n",
    "print(concatenated_list)\n",
    "\n",
    "# using lambda \n",
    "print(list(map(lambda x: list(map(lambda y: x + y, list2)), list1))) # it will give a nested list"
   ]
  },
  {
   "cell_type": "code",
   "execution_count": 51,
   "id": "a53ec44b",
   "metadata": {},
   "outputs": [],
   "source": [
    "#  8)\n",
    "#  Given a two Python list. Write a program to iterate both lists simultaneously and display items from list1 in original \n",
    "#  order and items from list2 in reverse order.\n",
    "\n",
    "#  Given\n",
    "\n",
    "#  list1 = [10, 20, 30, 40]\n",
    "#  list2 = [100, 200, 300, 400]\n",
    "\n",
    "# Expected output:\n",
    "# 10 400\n",
    "# 20 300\n",
    "# 30 200\n",
    "# 40 100"
   ]
  },
  {
   "cell_type": "code",
   "execution_count": 59,
   "id": "11c60518",
   "metadata": {},
   "outputs": [
    {
     "name": "stdout",
     "output_type": "stream",
     "text": [
      "10 400\n",
      "20 300\n",
      "30 200\n",
      "40 100\n"
     ]
    }
   ],
   "source": [
    "list1 = [10, 20, 30, 40]\n",
    "list2 = [100, 200, 300, 400]\n",
    "\n",
    "for i in range(max(len(list1),len(list2))):\n",
    "    print(f'{list1[i]} {list2[-1-i]}')"
   ]
  },
  {
   "cell_type": "code",
   "execution_count": 60,
   "id": "1713e3ea",
   "metadata": {},
   "outputs": [],
   "source": [
    "# 9)\n",
    "# Write a program to add item 7000 after 6000 in the following Python List\n",
    "\n",
    "# Given:\n",
    "\n",
    "# list1 = [10, 20, [300, 400, [5000, 6000], 500], 30, 40]\n",
    "\n",
    "# Expected output:\n",
    "\n",
    "# [10, 20, [300, 400, [5000, 6000, 7000], 500], 30, 40]"
   ]
  },
  {
   "cell_type": "code",
   "execution_count": 64,
   "id": "890ad4f9",
   "metadata": {},
   "outputs": [
    {
     "name": "stdout",
     "output_type": "stream",
     "text": [
      "Expected output : [10, 20, [300, 400, [5000, 6000, 7000], 500], 30, 40]\n"
     ]
    }
   ],
   "source": [
    "list1 = [10, 20, [300, 400, [5000, 6000], 500], 30, 40]\n",
    "list1[2][2].append(7000)\n",
    "print(f'Expected output : {list1}')"
   ]
  },
  {
   "cell_type": "code",
   "execution_count": 66,
   "id": "c95e2739",
   "metadata": {},
   "outputs": [],
   "source": [
    "# 10)\n",
    "# Given a Python list, Write a program to add all its elements into a given set.\n",
    "\n",
    "# Given:\n",
    "\n",
    "# sample_set = {\"Yellow\", \"Orange\", \"Black\"}\n",
    "# sample_list = [\"Blue\", \"Green\", \"Red\"]\n",
    "\n",
    "# Expected output:\n",
    "# Note: Set is unordered.\n",
    "\n",
    "# {'Green', 'Yellow', 'Black', 'Orange', 'Red', 'Blue'}"
   ]
  },
  {
   "cell_type": "code",
   "execution_count": 85,
   "id": "976ed5aa",
   "metadata": {},
   "outputs": [
    {
     "data": {
      "text/plain": [
       "{'Black', 'Blue', 'Green', 'Orange', 'Red', 'Yellow'}"
      ]
     },
     "execution_count": 85,
     "metadata": {},
     "output_type": "execute_result"
    }
   ],
   "source": [
    "sample_set = {\"Yellow\", \"Orange\", \"Black\"}\n",
    "sample_list = [\"Blue\", \"Green\", \"Red\"]\n",
    "# it will be using update command - \n",
    "output_set = set()\n",
    "output_set.update(sample_list)\n",
    "output_set.update(sample_set)\n",
    "output_set"
   ]
  },
  {
   "cell_type": "code",
   "execution_count": 86,
   "id": "ba7e96aa",
   "metadata": {},
   "outputs": [],
   "source": [
    "# 11)\n",
    "# Get Only unique items from two sets\n",
    "# Write a Python program to return a new set with unique items from both sets by removing duplicates.\n",
    "\n",
    "# Given:\n",
    "\n",
    "# set1 = {10, 20, 30, 40, 50}\n",
    "# set2 = {30, 40, 50, 60, 70}\n",
    "# Expected output:\n",
    "\n",
    "# {70, 40, 10, 50, 20, 60, 30}"
   ]
  },
  {
   "cell_type": "code",
   "execution_count": 88,
   "id": "2f5c5dbc",
   "metadata": {},
   "outputs": [
    {
     "name": "stdout",
     "output_type": "stream",
     "text": [
      "{70, 40, 10, 50, 20, 60, 30}\n",
      "{70, 40, 10, 50, 20, 60, 30}\n"
     ]
    }
   ],
   "source": [
    "# union\n",
    "set1 = {10, 20, 30, 40, 50}\n",
    "set2 = {30, 40, 50, 60, 70}\n",
    "result_set = set1.union(set2)\n",
    "print(result_set)\n",
    "\n",
    "# by using a operator\n",
    "print(set1 | set2)"
   ]
  },
  {
   "cell_type": "code",
   "execution_count": 90,
   "id": "08ee1630",
   "metadata": {},
   "outputs": [],
   "source": [
    "# 12)\n",
    "# Given two Python sets, write a Python program to update the first set with items that exist only in the first set and not in the second set.\n",
    "\n",
    "# set1 = {10, 20, 30}\n",
    "# set2 = {20, 40, 50}\n",
    "\n",
    "# Expected output:\n",
    "\n",
    "# set1 {10, 30}"
   ]
  },
  {
   "cell_type": "code",
   "execution_count": 92,
   "id": "b27d0b40",
   "metadata": {},
   "outputs": [
    {
     "name": "stdout",
     "output_type": "stream",
     "text": [
      "{10, 30}\n",
      "{10, 30}\n"
     ]
    }
   ],
   "source": [
    "# difference \n",
    "set1 = {10, 20, 30}\n",
    "set2 = {20, 40, 50}\n",
    "# logic 1: by using method\n",
    "print(set1.difference(set2))\n",
    "# Logic 2: by using operator \n",
    "print(set1-set2)"
   ]
  },
  {
   "cell_type": "code",
   "execution_count": 93,
   "id": "1357c6fe",
   "metadata": {},
   "outputs": [],
   "source": [
    "# 13)\n",
    "# Return a set of elements present in Set A or B, but not both\n",
    "# Given:\n",
    "\n",
    "# set1 = {10, 20, 30, 40, 50}\n",
    "# set2 = {30, 40, 50, 60, 70}\n",
    "\n",
    "# Expected output:\n",
    "\n",
    "# {20, 70, 10, 60}"
   ]
  },
  {
   "cell_type": "code",
   "execution_count": 94,
   "id": "340b86c5",
   "metadata": {},
   "outputs": [
    {
     "name": "stdout",
     "output_type": "stream",
     "text": [
      "{20, 70, 10, 60}\n",
      "{20, 70, 10, 60}\n"
     ]
    }
   ],
   "source": [
    "# symmetric difference\n",
    "set1 = {10, 20, 30, 40, 50}\n",
    "set2 = {30, 40, 50, 60, 70}\n",
    "# by using method\n",
    "print(set1.symmetric_difference(set2))\n",
    "\n",
    "# by using operator\n",
    "print(set1^set2)"
   ]
  },
  {
   "cell_type": "code",
   "execution_count": 95,
   "id": "1a1ee2fa",
   "metadata": {},
   "outputs": [],
   "source": [
    "# 14)\n",
    "# Update set1 by adding items from set2, except common items\n",
    "# Given:\n",
    "\n",
    "# set1 = {10, 20, 30, 40, 50}\n",
    "# set2 = {30, 40, 50, 60, 70}\n",
    "\n",
    "# Expected output:\n",
    "\n",
    "# {70, 10, 20, 60}\n"
   ]
  },
  {
   "cell_type": "code",
   "execution_count": 97,
   "id": "f5f8a592",
   "metadata": {},
   "outputs": [
    {
     "name": "stdout",
     "output_type": "stream",
     "text": [
      "{20, 70, 10, 60}\n"
     ]
    }
   ],
   "source": [
    "# symmetric difference update\n",
    "set1 = {10, 20, 30, 40, 50}\n",
    "set2 = {30, 40, 50, 60, 70}\n",
    "\n",
    "set1.symmetric_difference_update(set2)\n",
    "print(set1)"
   ]
  },
  {
   "cell_type": "code",
   "execution_count": null,
   "id": "90a290ac",
   "metadata": {},
   "outputs": [],
   "source": []
  },
  {
   "cell_type": "code",
   "execution_count": null,
   "id": "9c6781dc",
   "metadata": {},
   "outputs": [],
   "source": []
  }
 ],
 "metadata": {
  "kernelspec": {
   "display_name": "Python 3 (ipykernel)",
   "language": "python",
   "name": "python3"
  },
  "language_info": {
   "codemirror_mode": {
    "name": "ipython",
    "version": 3
   },
   "file_extension": ".py",
   "mimetype": "text/x-python",
   "name": "python",
   "nbconvert_exporter": "python",
   "pygments_lexer": "ipython3",
   "version": "3.11.4"
  }
 },
 "nbformat": 4,
 "nbformat_minor": 5
}
