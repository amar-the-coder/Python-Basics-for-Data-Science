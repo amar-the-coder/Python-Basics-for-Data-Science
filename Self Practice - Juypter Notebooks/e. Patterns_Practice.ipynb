{
 "cells": [
  {
   "cell_type": "markdown",
   "id": "e9077f58",
   "metadata": {},
   "source": [
    "# Patterns Practice"
   ]
  },
  {
   "cell_type": "markdown",
   "id": "b0b85498",
   "metadata": {},
   "source": [
    "## ----- Basic Symbols Pattern -----"
   ]
  },
  {
   "cell_type": "markdown",
   "id": "4feb3f3a",
   "metadata": {},
   "source": [
    "### Q1: Square Symbol"
   ]
  },
  {
   "cell_type": "code",
   "execution_count": 44,
   "id": "7b641a15",
   "metadata": {},
   "outputs": [
    {
     "name": "stdout",
     "output_type": "stream",
     "text": [
      "enter the number of rows : 8\n",
      "enter the symbol : *\n",
      "By Logic 1\n",
      "********\n",
      "********\n",
      "********\n",
      "********\n",
      "********\n",
      "********\n",
      "********\n",
      "********\n",
      "\n",
      "By Logic 2\n",
      "* * * * * * * * \n",
      "* * * * * * * * \n",
      "* * * * * * * * \n",
      "* * * * * * * * \n",
      "* * * * * * * * \n",
      "* * * * * * * * \n",
      "* * * * * * * * \n",
      "* * * * * * * * \n"
     ]
    }
   ],
   "source": [
    "def pattern_1(n,symbol):\n",
    "    ## by logic 1\n",
    "    print('By Logic 1')\n",
    "    for i in range(n):\n",
    "        print(f'{symbol*n}') ## one method\n",
    "    print()\n",
    "    \n",
    "    ## by Logic 2\n",
    "    print('By Logic 2')\n",
    "    for i in range(n):\n",
    "        for j in range(n):\n",
    "            print(f'{symbol}',end=' ') ## 2nd Method\n",
    "        print()\n",
    "    \n",
    "rows = int(input(\"enter the number of rows : \"))\n",
    "Symbol = input(\"enter the symbol : \")\n",
    "pattern_1(rows,Symbol)"
   ]
  },
  {
   "cell_type": "markdown",
   "id": "33489a20",
   "metadata": {},
   "source": [
    "### Q2: Increasing Triangle"
   ]
  },
  {
   "cell_type": "code",
   "execution_count": 42,
   "id": "97c2e05e",
   "metadata": {},
   "outputs": [
    {
     "name": "stdout",
     "output_type": "stream",
     "text": [
      "enter the number of rows : 8\n",
      "enter the symbol : *\n",
      "The Pattern is : \n",
      "* \n",
      "* * \n",
      "* * * \n",
      "* * * * \n",
      "* * * * * \n",
      "* * * * * * \n",
      "* * * * * * * \n",
      "* * * * * * * * \n"
     ]
    }
   ],
   "source": [
    "def pattern_2(n,symbol):\n",
    "    \n",
    "    for i in range(n): # we can also write range(1,n+1)\n",
    "        for j in range(i+1):  # we can also write (i)\n",
    "            print(f'{symbol}', end=' ')\n",
    "        print()\n",
    "\n",
    "\n",
    "rows = int(input(\"enter the number of rows : \"))\n",
    "Symbol = input(\"enter the symbol : \")\n",
    "print('The Pattern is : ')\n",
    "pattern_2(rows,Symbol)"
   ]
  },
  {
   "cell_type": "markdown",
   "id": "ba649794",
   "metadata": {},
   "source": [
    "### Q3. Decreasing Triangle"
   ]
  },
  {
   "cell_type": "code",
   "execution_count": 41,
   "id": "fc6b0d2a",
   "metadata": {},
   "outputs": [
    {
     "name": "stdout",
     "output_type": "stream",
     "text": [
      "enter the number of rows : 8\n",
      "enter the symbol : *\n",
      "The Pattern is : \n",
      "* * * * * * * * \n",
      "* * * * * * * \n",
      "* * * * * * \n",
      "* * * * * \n",
      "* * * * \n",
      "* * * \n",
      "* * \n",
      "* \n"
     ]
    }
   ],
   "source": [
    "def pattern_3(n,symbol):\n",
    "    for i in range(n):        # we can also write range(1,n+1)\n",
    "        for i in range(i,n):  # we can also write range(i,n+1)\n",
    "            print(f'{symbol}', end=' ')\n",
    "        print()\n",
    "\n",
    "rows = int(input(\"enter the number of rows : \"))\n",
    "Symbol = input(\"enter the symbol : \")\n",
    "print('The Pattern is : ')\n",
    "pattern_3(rows,Symbol)"
   ]
  },
  {
   "cell_type": "markdown",
   "id": "a20e02cc",
   "metadata": {},
   "source": [
    "### Q4: Reflected Triangle"
   ]
  },
  {
   "cell_type": "code",
   "execution_count": 26,
   "id": "de3f25b8",
   "metadata": {},
   "outputs": [
    {
     "name": "stdout",
     "output_type": "stream",
     "text": [
      "enter the number of rows : 8\n",
      "enter the symbol : *\n",
      "        *\n",
      "       **\n",
      "      ***\n",
      "     ****\n",
      "    *****\n",
      "   ******\n",
      "  *******\n",
      " ********\n"
     ]
    }
   ],
   "source": [
    "def pattern_4(n,symbol):\n",
    "    for i in range(n): # or (1,n)\n",
    "        spaces = n-i\n",
    "        for j in range(spaces): # we can aslo write range(i,n) or (i,n+1 if i start from 1)\n",
    "            print(' ',end='')\n",
    "        for j in range(i+1): # (i)\n",
    "            print(f'{symbol}', end='')\n",
    "        print()\n",
    "        \n",
    "rows = int(input(\"enter the number of rows : \"))\n",
    "Symbol = input(\"enter the symbol : \")\n",
    "print('The Pattern is : ')\n",
    "pattern_4(rows,Symbol)"
   ]
  },
  {
   "cell_type": "markdown",
   "id": "e49752f7",
   "metadata": {},
   "source": [
    "### Q5. Inverted Reflected Triangle"
   ]
  },
  {
   "cell_type": "code",
   "execution_count": 28,
   "id": "9bb06042",
   "metadata": {},
   "outputs": [
    {
     "name": "stdout",
     "output_type": "stream",
     "text": [
      "enter the number of rows : 8\n",
      "enter the symbol : *\n",
      " ********\n",
      "  *******\n",
      "   ******\n",
      "    *****\n",
      "     ****\n",
      "      ***\n",
      "       **\n",
      "        *\n"
     ]
    }
   ],
   "source": [
    "def pattern_5(n,symbol):\n",
    "    for i in range(n):\n",
    "        ## for spaces \n",
    "        for j in range(i+1):\n",
    "            print(' ',end='')\n",
    "        ## for printing the symbols\n",
    "        for j in range(i,n):\n",
    "            print(f'{symbol}', end='')\n",
    "        print()\n",
    "    \n",
    "rows = int(input(\"enter the number of rows : \"))\n",
    "Symbol = input(\"enter the symbol : \")\n",
    "print('The Pattern is : ')\n",
    "pattern_5(rows,Symbol)"
   ]
  },
  {
   "cell_type": "markdown",
   "id": "335fd9bf",
   "metadata": {},
   "source": [
    "### Q6: Hill Pattern"
   ]
  },
  {
   "cell_type": "code",
   "execution_count": 32,
   "id": "141f2fec",
   "metadata": {},
   "outputs": [
    {
     "name": "stdout",
     "output_type": "stream",
     "text": [
      "enter the number of rows : 10\n",
      "enter the symbol : *\n",
      "          *\n",
      "         ***\n",
      "        *****\n",
      "       *******\n",
      "      *********\n",
      "     ***********\n",
      "    *************\n",
      "   ***************\n",
      "  *****************\n",
      " *******************\n"
     ]
    }
   ],
   "source": [
    "def pattern_6(n,symbol):                             \n",
    "    for i in range(n):\n",
    "        ## for spaces \n",
    "        for j in range(i,n):\n",
    "            print(' ',end='')\n",
    "        ## for printing the symbols\n",
    "        for j in range(i):\n",
    "            print(f'{symbol}', end='')\n",
    "        for j in range(i+1):\n",
    "            print(f'{symbol}', end='')\n",
    "        \n",
    "        print()\n",
    "\n",
    "rows = int(input(\"enter the number of rows : \"))\n",
    "Symbol = input(\"enter the symbol : \")\n",
    "print('The Pattern is : ')\n",
    "pattern_6(rows,Symbol)\n",
    "\n",
    "\n",
    "\n",
    "# logic --2 \n",
    "\n",
    "# def pattern_6(n,symbol):\n",
    "#     for i in range(1,n+1):\n",
    "#         ## for spaces \n",
    "#         for j in range(n-i):\n",
    "#             print(' ',end='')\n",
    "#         ## for printing the symbols\n",
    "#         for j in range(i-1):\n",
    "#             print(f'{symbol}', end='')\n",
    "#         for j in range(i):\n",
    "#             print(f'{symbol}', end='')\n",
    "        \n",
    "#         print()\n",
    "\n",
    "# rows = int(input(\"enter the number of rows : \"))\n",
    "# Symbol = input(\"enter the symbol : \")\n",
    "# pattern_6(rows,Symbol)"
   ]
  },
  {
   "cell_type": "markdown",
   "id": "8e00dfee",
   "metadata": {},
   "source": [
    "### Q7: Reverse Hill"
   ]
  },
  {
   "cell_type": "code",
   "execution_count": 45,
   "id": "1f4bf8fd",
   "metadata": {},
   "outputs": [
    {
     "name": "stdout",
     "output_type": "stream",
     "text": [
      "enter the number of rows : 8\n",
      "enter the symbol : *\n",
      "The Pattern is : \n",
      " ***************\n",
      "  *************\n",
      "   ***********\n",
      "    *********\n",
      "     *******\n",
      "      *****\n",
      "       ***\n",
      "        *\n"
     ]
    }
   ],
   "source": [
    "def pattern_7(n,symbol):                             \n",
    "    for i in range(n):\n",
    "        ## for spaces \n",
    "        for j in range(i+1):\n",
    "            print(' ',end='')\n",
    "        ## for printing the symbols\n",
    "        for j in range(i,n-1):\n",
    "            print(f'{symbol}', end='')\n",
    "        for j in range(i,n):\n",
    "            print(f'{symbol}', end='')\n",
    "        \n",
    "        print()\n",
    "\n",
    "rows = int(input(\"enter the number of rows : \"))\n",
    "Symbol = input(\"enter the symbol : \")\n",
    "print('The Pattern is : ')\n",
    "pattern_7(rows,Symbol)"
   ]
  },
  {
   "cell_type": "markdown",
   "id": "1d02e616",
   "metadata": {},
   "source": [
    "### Q8: Diamond Pattern"
   ]
  },
  {
   "cell_type": "code",
   "execution_count": 51,
   "id": "90765d57",
   "metadata": {},
   "outputs": [
    {
     "name": "stdout",
     "output_type": "stream",
     "text": [
      "enter the number of rows : 4\n",
      "enter the symbol : *\n",
      "The Pattern is : \n",
      "    *\n",
      "   ***\n",
      "  *****\n",
      " *******\n",
      "  *****\n",
      "   ***\n",
      "    *\n"
     ]
    }
   ],
   "source": [
    "def pattern_8(n,symbol):                             \n",
    "    for i in range(n-1):\n",
    "        ## for spaces \n",
    "        for j in range(i,n):\n",
    "            print(' ',end='')\n",
    "        ## for printing the symbols\n",
    "        for j in range(i):\n",
    "            print(f'{symbol}', end='')\n",
    "        for j in range(i+1):\n",
    "            print(f'{symbol}', end='')\n",
    "        print()\n",
    "        \n",
    "    for i in range(n):\n",
    "        ## for spaces \n",
    "        for j in range(i+1):\n",
    "            print(' ',end='')\n",
    "        ## for printing the symbols\n",
    "        for j in range(i,n-1):\n",
    "            print(f'{symbol}', end='')\n",
    "        for j in range(i,n):\n",
    "            print(f'{symbol}', end='')\n",
    "        print()\n",
    "\n",
    "\n",
    "rows = int(input(\"enter the number of rows : \"))\n",
    "Symbol = input(\"enter the symbol : \")\n",
    "print('The Pattern is : ')\n",
    "pattern_8(rows,Symbol)"
   ]
  },
  {
   "cell_type": "markdown",
   "id": "8beadab3",
   "metadata": {},
   "source": [
    "## ----- Number Patterns -----"
   ]
  },
  {
   "cell_type": "markdown",
   "id": "ca5be8ff",
   "metadata": {},
   "source": [
    "### Q9: Print this Pattern\n",
    "1 <br>\n",
    "11 <br>\n",
    "111 <br>\n",
    "1111 <br>\n",
    "11111 <br>\n"
   ]
  },
  {
   "cell_type": "code",
   "execution_count": 53,
   "id": "87c59898",
   "metadata": {},
   "outputs": [
    {
     "name": "stdout",
     "output_type": "stream",
     "text": [
      "enter the number of rows : 8\n",
      "The Pattern is : \n",
      "1\n",
      "11\n",
      "111\n",
      "1111\n",
      "11111\n",
      "111111\n",
      "1111111\n",
      "11111111\n"
     ]
    }
   ],
   "source": [
    "def pattern_9(n):\n",
    "    for i in range(n):\n",
    "        for j in range(i+1):\n",
    "            print('1',end='')\n",
    "        print()\n",
    "    \n",
    "rows = int(input(\"enter the number of rows : \"))\n",
    "print('The Pattern is : ')\n",
    "pattern_9(rows)"
   ]
  },
  {
   "cell_type": "markdown",
   "id": "145e47f0",
   "metadata": {},
   "source": [
    "### Q10. Print this Pattern\n",
    "1 <br>\n",
    "22 <br>\n",
    "333 <br>\n",
    "4444 <br>\n",
    "5555 <br>\n"
   ]
  },
  {
   "cell_type": "code",
   "execution_count": 56,
   "id": "1cd45db0",
   "metadata": {},
   "outputs": [
    {
     "name": "stdout",
     "output_type": "stream",
     "text": [
      "enter the number of rows : 5\n",
      "The Pattern is : \n",
      "1\n",
      "22\n",
      "333\n",
      "4444\n",
      "55555\n"
     ]
    }
   ],
   "source": [
    "def pattern_10(n):\n",
    "    p=1\n",
    "    for i in range(n):\n",
    "        for j in range(i+1):\n",
    "            print(p,end='')\n",
    "        p+=1\n",
    "        print()\n",
    "    \n",
    "rows = int(input(\"enter the number of rows : \"))\n",
    "print('The Pattern is : ')\n",
    "pattern_10(rows)\n",
    "\n",
    "# logic 2\n",
    "\n",
    "# def pattern_10(n):\n",
    "#     p=1\n",
    "#     for i in range(1,n):\n",
    "#         for j in range(i):\n",
    "#             print(i,end='')\n",
    "#         p+=1\n",
    "#         print()\n",
    "    \n",
    "# rows = int(input(\"enter the number of rows : \"))\n",
    "# print('The Pattern is : ')\n",
    "# pattern_10(rows)"
   ]
  },
  {
   "cell_type": "markdown",
   "id": "c17a3967",
   "metadata": {},
   "source": [
    "### Q11. Print this Pattern\n",
    "5 <br>\n",
    "44 <br>\n",
    "333 <br>\n",
    "2222 <br>\n",
    "11111 <br>\n"
   ]
  },
  {
   "cell_type": "code",
   "execution_count": 59,
   "id": "39f561a8",
   "metadata": {},
   "outputs": [
    {
     "name": "stdout",
     "output_type": "stream",
     "text": [
      "enter the number of rows : 5\n",
      "The Pattern is : \n",
      "5\n",
      "44\n",
      "333\n",
      "2222\n",
      "11111\n"
     ]
    }
   ],
   "source": [
    "def pattern_11(n):\n",
    "    p=n\n",
    "    for i in range(n):\n",
    "        for j in range(i+1):\n",
    "            print(p,end='')\n",
    "        p-=1\n",
    "        print()\n",
    "    \n",
    "rows = int(input(\"enter the number of rows : \"))\n",
    "print('The Pattern is : ')\n",
    "pattern_11(rows)"
   ]
  },
  {
   "cell_type": "markdown",
   "id": "509d7753",
   "metadata": {},
   "source": [
    "### Q12: Print this Pattern\n",
    "0 <br>\n",
    "22 <br>\n",
    "444 <br>\n",
    "6666 <br>\n",
    "88888 <br>\n"
   ]
  },
  {
   "cell_type": "code",
   "execution_count": 61,
   "id": "eabe2a7b",
   "metadata": {},
   "outputs": [
    {
     "name": "stdout",
     "output_type": "stream",
     "text": [
      "enter the number of rows : 5\n",
      "The Pattern is : \n",
      "0\n",
      "22\n",
      "444\n",
      "6666\n",
      "88888\n"
     ]
    }
   ],
   "source": [
    "def pattern_12(n):\n",
    "    p=0\n",
    "    for i in range(n):\n",
    "        for j in range(i+1):\n",
    "            print(p,end='')\n",
    "        p+=2\n",
    "        print()\n",
    "    \n",
    "rows = int(input(\"enter the number of rows : \"))\n",
    "print('The Pattern is : ')\n",
    "pattern_12(rows)"
   ]
  },
  {
   "cell_type": "markdown",
   "id": "acd3b8d9",
   "metadata": {},
   "source": [
    "### Q13: Print this Pattern\n",
    "1 <br>\n",
    "22 <br>\n",
    "111 <br>\n",
    "2222 <br>\n",
    "11111 <br>\n"
   ]
  },
  {
   "cell_type": "code",
   "execution_count": 65,
   "id": "75f649b6",
   "metadata": {},
   "outputs": [
    {
     "name": "stdout",
     "output_type": "stream",
     "text": [
      "enter the number of rows : 5\n",
      "The Pattern is : \n",
      "1\n",
      "22\n",
      "111\n",
      "2222\n",
      "11111\n"
     ]
    }
   ],
   "source": [
    "def pattern_12(n):\n",
    "    \n",
    "    for i in range(n):\n",
    "        for j in range(i+1):\n",
    "            if i%2==0:\n",
    "                print('1',end='')\n",
    "            else:\n",
    "                print('2',end='')\n",
    "\n",
    "        print()\n",
    "    \n",
    "rows = int(input(\"enter the number of rows : \"))\n",
    "print('The Pattern is : ')\n",
    "pattern_12(rows)\n",
    "\n",
    "\n",
    "# def pattern_12(n):\n",
    "    \n",
    "#     for i in range(n):\n",
    "#         for j in range(i+1):\n",
    "#             if i%2==0:\n",
    "#                 print('1',end='')\n",
    "#             else:\n",
    "#                 print('2',end='')\n",
    "\n",
    "#         print()\n",
    "    \n",
    "# rows = int(input(\"enter the number of rows : \"))\n",
    "# print('The Pattern is : ')\n",
    "# pattern_12(rows)"
   ]
  },
  {
   "cell_type": "code",
   "execution_count": null,
   "id": "d42eb55d",
   "metadata": {},
   "outputs": [],
   "source": [
    "### Q13. Print this Pattern \n",
    "#     1  \n",
    "#    222 \n",
    "#   33333 \n",
    "#  4444444 \n",
    "# 555555555\n",
    "#  4444444 \n",
    "#   33333 \n",
    "#    222 \n",
    "#     1  "
   ]
  },
  {
   "cell_type": "code",
   "execution_count": 9,
   "id": "cfdc4db6",
   "metadata": {},
   "outputs": [
    {
     "name": "stdout",
     "output_type": "stream",
     "text": [
      "enter the number of rows : 5\n",
      "The Pattern is : \n",
      "     1\n",
      "    222\n",
      "   33333\n",
      "  4444444\n",
      " 555555555\n",
      "  4444444\n",
      "   33333\n",
      "    222\n",
      "     1\n"
     ]
    }
   ],
   "source": [
    "def pattern_13(n):\n",
    "    p=1\n",
    "    for i in range(n-1):\n",
    "        ## for spaces \n",
    "        for j in range(i,n):\n",
    "            print(' ',end='')\n",
    "        ## for printing the symbols\n",
    "        for j in range(i):\n",
    "            print(p, end='')\n",
    "        for j in range(i+1):\n",
    "            print(p, end='')\n",
    "        p+=1\n",
    "        print()\n",
    "        \n",
    "    for i in range(n):\n",
    "        ## for spaces \n",
    "        for j in range(i+1):\n",
    "            print(' ',end='')\n",
    "        ## for printing the symbols\n",
    "        for j in range(i,n-1):\n",
    "            print(p, end='')\n",
    "        for j in range(i,n):\n",
    "            print(p, end='')\n",
    "        p-=1\n",
    "        print()\n",
    "\n",
    "\n",
    "rows = int(input(\"enter the number of rows : \"))\n",
    "print('The Pattern is : ')\n",
    "pattern_13(rows)"
   ]
  },
  {
   "cell_type": "code",
   "execution_count": 32,
   "id": "3d7fa1d3",
   "metadata": {},
   "outputs": [],
   "source": [
    "### Q14: Print this Pattern \n",
    "#     1  \n",
    "#    222 \n",
    "#   33333 \n",
    "#  4444444 \n",
    "# 555555555\n",
    "#  6666666 \n",
    "#   77777 \n",
    "#    888 \n",
    "#     9 "
   ]
  },
  {
   "cell_type": "code",
   "execution_count": 10,
   "id": "5b528d0f",
   "metadata": {},
   "outputs": [
    {
     "name": "stdout",
     "output_type": "stream",
     "text": [
      "enter the number of rows : 5\n",
      "The Pattern is : \n",
      "     1\n",
      "    222\n",
      "   33333\n",
      "  4444444\n",
      " 555555555\n",
      "  6666666\n",
      "   77777\n",
      "    888\n",
      "     9\n"
     ]
    }
   ],
   "source": [
    "def pattern_14(n):\n",
    "    p=1\n",
    "    for i in range(n-1):\n",
    "        ## for spaces \n",
    "        for j in range(i,n):\n",
    "            print(' ',end='')\n",
    "        ## for printing the symbols\n",
    "        for j in range(i):\n",
    "            print(p, end='')\n",
    "        for j in range(i+1):\n",
    "            print(p, end='')\n",
    "        p+=1\n",
    "        print()\n",
    "        \n",
    "    for i in range(n):\n",
    "        ## for spaces \n",
    "        for j in range(i+1):\n",
    "            print(' ',end='')\n",
    "        ## for printing the symbols\n",
    "        for j in range(i,n-1):\n",
    "            print(p, end='')\n",
    "        for j in range(i,n):\n",
    "            print(p, end='')\n",
    "        p+=1\n",
    "        print()\n",
    "\n",
    "\n",
    "rows = int(input(\"enter the number of rows : \"))\n",
    "print('The Pattern is : ')\n",
    "pattern_14(rows)"
   ]
  },
  {
   "cell_type": "markdown",
   "id": "895c85bc",
   "metadata": {},
   "source": [
    "### Q15: Print this Pattern\n",
    "1 <br>\n",
    "12 <br>\n",
    "123 <br>\n",
    "1234 <br>\n",
    "12345 <br>\n"
   ]
  },
  {
   "cell_type": "code",
   "execution_count": 19,
   "id": "b346fd48",
   "metadata": {},
   "outputs": [
    {
     "name": "stdout",
     "output_type": "stream",
     "text": [
      "enter the number of rows : 6\n",
      "The Pattern is : \n",
      "1\n",
      "12\n",
      "123\n",
      "1234\n",
      "12345\n",
      "123456\n"
     ]
    }
   ],
   "source": [
    "def pattern_15(n):\n",
    "    \n",
    "    for i in range(n):\n",
    "        p=1\n",
    "        for j in range(i+1):\n",
    "            print(p,end='')\n",
    "            p+=1\n",
    "        print()\n",
    "    \n",
    "rows = int(input(\"enter the number of rows : \"))\n",
    "print('The Pattern is : ')\n",
    "pattern_15(rows)\n",
    "\n",
    "\n",
    "# logic 2\n",
    "\n",
    "# def pattern_15(n):\n",
    "   \n",
    "#     for i in range(1,n+1): \n",
    "#         for j in range(1,i+1):\n",
    "#             print(j,end='')\n",
    "#         print()\n",
    "    \n",
    "# rows = int(input(\"enter the number of rows : \"))\n",
    "# print('The Pattern is : ')\n",
    "# pattern_15(rows)"
   ]
  },
  {
   "cell_type": "code",
   "execution_count": 21,
   "id": "bb509931",
   "metadata": {},
   "outputs": [],
   "source": [
    "# Q16. Print this pattern\n",
    "# 12345\n",
    "#  1234\n",
    "#   123\n",
    "#    12\n",
    "#     1"
   ]
  },
  {
   "cell_type": "code",
   "execution_count": 71,
   "id": "8ef6019c",
   "metadata": {},
   "outputs": [
    {
     "name": "stdout",
     "output_type": "stream",
     "text": [
      "enter the number of rows : 5\n",
      "The Pattern is : \n",
      "12345\n",
      " 1234\n",
      "  123\n",
      "   12\n",
      "    1\n"
     ]
    }
   ],
   "source": [
    "def pattern_16(n):\n",
    "    for i in range(n):\n",
    "        ## for spaces\n",
    "        \n",
    "        for j in range(i):\n",
    "            print(' ',end='')\n",
    "        ## for printing the symbols\n",
    "        p=1\n",
    "        for j in range(i,n):\n",
    "            print(p, end='')\n",
    "            p+=1\n",
    "        print()\n",
    "    \n",
    "rows = int(input(\"enter the number of rows : \"))\n",
    "print('The Pattern is : ')\n",
    "pattern_16(rows)"
   ]
  },
  {
   "cell_type": "code",
   "execution_count": 33,
   "id": "086f0751",
   "metadata": {},
   "outputs": [],
   "source": [
    "# Q17: Print this pattern\n",
    "#           1\n",
    "#          123\n",
    "#         12345\n",
    "#        1234567\n",
    "#       123456789"
   ]
  },
  {
   "cell_type": "code",
   "execution_count": 26,
   "id": "ef2f7331",
   "metadata": {},
   "outputs": [
    {
     "name": "stdout",
     "output_type": "stream",
     "text": [
      "enter the number of rows : 5\n",
      "The Pattern is : \n",
      "     1\n",
      "    123\n",
      "   12345\n",
      "  1234567\n",
      " 123456789\n"
     ]
    }
   ],
   "source": [
    "def pattern_17(n):                             \n",
    "    for i in range(n):\n",
    "        p=1\n",
    "        ## for spaces \n",
    "        for j in range(i,n):\n",
    "            print(' ',end='')\n",
    "        ## for printing the symbols\n",
    "        for j in range(i):\n",
    "            print(p, end='')\n",
    "            p+=1\n",
    "        for j in range(i+1):\n",
    "            print(p, end='')\n",
    "            p+=1\n",
    "        print()\n",
    "\n",
    "rows = int(input(\"enter the number of rows : \"))\n",
    "print('The Pattern is : ')\n",
    "pattern_17(rows)"
   ]
  },
  {
   "cell_type": "markdown",
   "id": "79d2b0eb",
   "metadata": {},
   "source": [
    "### Q18: Print this Pattern\n",
    "5 <br>\n",
    "54 <br>\n",
    "543 <br>\n",
    "5432 <br>\n",
    "54321 <br>"
   ]
  },
  {
   "cell_type": "code",
   "execution_count": 29,
   "id": "53792c65",
   "metadata": {},
   "outputs": [
    {
     "name": "stdout",
     "output_type": "stream",
     "text": [
      "enter the number of rows : 5\n",
      "The Pattern is : \n",
      "5\n",
      "54\n",
      "543\n",
      "5432\n",
      "54321\n"
     ]
    }
   ],
   "source": [
    "def pattern_18(n):\n",
    "    \n",
    "    for i in range(n):\n",
    "        p=n\n",
    "        for j in range(i+1):\n",
    "            print(p,end='')\n",
    "            p-=1\n",
    "        print()\n",
    "    \n",
    "rows = int(input(\"enter the number of rows : \"))\n",
    "print('The Pattern is : ')\n",
    "pattern_18(rows)"
   ]
  },
  {
   "cell_type": "code",
   "execution_count": 56,
   "id": "36782562",
   "metadata": {},
   "outputs": [],
   "source": [
    "# Q19: Print this pattern\n",
    "\n",
    "# 54321\n",
    "#  4321\n",
    "#   321\n",
    "#    21\n",
    "#     1"
   ]
  },
  {
   "cell_type": "code",
   "execution_count": 70,
   "id": "fadf4356",
   "metadata": {},
   "outputs": [
    {
     "name": "stdout",
     "output_type": "stream",
     "text": [
      "enter the number of rows : 5\n",
      "The Pattern is : \n",
      "54321\n",
      " 4321\n",
      "  321\n",
      "   21\n",
      "    1\n"
     ]
    }
   ],
   "source": [
    "def pattern_19(n):\n",
    "    k=n\n",
    "    for i in range(n):\n",
    "        p=k\n",
    "        ## for spaces \n",
    "        for j in range(i):\n",
    "            print(' ',end='')\n",
    "        ## for printing the symbols\n",
    "        for j in range(i,n):\n",
    "            print(p, end='')\n",
    "            p-=1\n",
    "        k-=1\n",
    "        print()\n",
    "    \n",
    "rows = int(input(\"enter the number of rows : \"))\n",
    "\n",
    "print('The Pattern is : ')\n",
    "pattern_19(rows)"
   ]
  },
  {
   "cell_type": "code",
   "execution_count": 30,
   "id": "75e58621",
   "metadata": {},
   "outputs": [],
   "source": [
    "#### Q20: Print this pattern\n",
    "#           1\n",
    "#          121\n",
    "#         12321\n",
    "#        1234321\n",
    "#       123454321"
   ]
  },
  {
   "cell_type": "code",
   "execution_count": 31,
   "id": "beb12a18",
   "metadata": {},
   "outputs": [
    {
     "name": "stdout",
     "output_type": "stream",
     "text": [
      "enter the number of rows : 5\n",
      "The Pattern is : \n",
      "     1\n",
      "    121\n",
      "   12321\n",
      "  1234321\n",
      " 123454321\n"
     ]
    }
   ],
   "source": [
    "def pattern_20(n):                             \n",
    "    for i in range(n):\n",
    "        p=1\n",
    "        ## for spaces \n",
    "        for j in range(i,n):\n",
    "            print(' ',end='')\n",
    "        ## for printing the symbols\n",
    "        for j in range(i):\n",
    "            print(p, end='')\n",
    "            p+=1\n",
    "        for j in range(i+1):\n",
    "            print(p, end='')\n",
    "            p-=1\n",
    "        print()\n",
    "\n",
    "rows = int(input(\"enter the number of rows : \"))\n",
    "print('The Pattern is : ')\n",
    "pattern_20(rows)"
   ]
  },
  {
   "cell_type": "markdown",
   "id": "df6fbaa1",
   "metadata": {},
   "source": [
    "## Q21: Print Floyd Triangle\n",
    "1 <br>\n",
    "23 <br>\n",
    "456 <br>\n",
    "78910 <br>"
   ]
  },
  {
   "cell_type": "code",
   "execution_count": 42,
   "id": "3a19918b",
   "metadata": {},
   "outputs": [
    {
     "name": "stdout",
     "output_type": "stream",
     "text": [
      "enter the number of rows : 10\n",
      "The Pattern is : \n",
      "1\n",
      "23\n",
      "456\n",
      "78910\n",
      "1112131415\n",
      "161718192021\n",
      "22232425262728\n",
      "2930313233343536\n",
      "373839404142434445\n",
      "46474849505152535455\n"
     ]
    }
   ],
   "source": [
    "def pattern_21(n):\n",
    "    num=1\n",
    "    for i in range(n):\n",
    "        \n",
    "        for j in range(i+1):\n",
    "            print(num,end='')\n",
    "            num+=1\n",
    "        print()\n",
    "    \n",
    "rows = int(input(\"enter the number of rows : \"))\n",
    "print('The Pattern is : ')\n",
    "pattern_21(rows)"
   ]
  },
  {
   "cell_type": "markdown",
   "id": "420253c3",
   "metadata": {},
   "source": [
    "## ----- Charcter Patterns -----"
   ]
  },
  {
   "cell_type": "markdown",
   "id": "589a1b99",
   "metadata": {},
   "source": [
    "## Q22: Print the pattern \n",
    "A <br>\n",
    "AA <br>\n",
    "AAA <br>\n",
    "AAAA <br>\n",
    "AAAAA <br>"
   ]
  },
  {
   "cell_type": "code",
   "execution_count": 44,
   "id": "bb257c59",
   "metadata": {},
   "outputs": [
    {
     "name": "stdout",
     "output_type": "stream",
     "text": [
      "enter the number of rows : 5\n",
      "The Pattern is : \n",
      "A\n",
      "AA\n",
      "AAA\n",
      "AAAA\n",
      "AAAAA\n"
     ]
    }
   ],
   "source": [
    "def pattern_22(n):\n",
    "    for i in range(n):\n",
    "        for j in range(i+1):\n",
    "            print('A',end='')\n",
    "        print()\n",
    "    \n",
    "rows = int(input(\"enter the number of rows : \"))\n",
    "print('The Pattern is : ')\n",
    "pattern_22(rows)"
   ]
  },
  {
   "cell_type": "markdown",
   "id": "19f1b3f4",
   "metadata": {},
   "source": [
    "## Q23: Print the pattern \n",
    "A <br>\n",
    "BB <br>\n",
    "CCC <br>\n",
    "DDDD <br>\n",
    "EEEEE <br>"
   ]
  },
  {
   "cell_type": "code",
   "execution_count": 46,
   "id": "579074aa",
   "metadata": {},
   "outputs": [
    {
     "name": "stdout",
     "output_type": "stream",
     "text": [
      "enter the number of rows : 5\n",
      "The Pattern is : \n",
      "A\n",
      "BB\n",
      "CCC\n",
      "DDDD\n",
      "EEEEE\n"
     ]
    }
   ],
   "source": [
    "def pattern_23(n):\n",
    "    p=65\n",
    "    for i in range(n):\n",
    "        for j in range(i+1):\n",
    "            print(chr(p),end='')\n",
    "        p+=1\n",
    "        print()\n",
    "    \n",
    "rows = int(input(\"enter the number of rows : \"))\n",
    "print('The Pattern is : ')\n",
    "pattern_23(rows)"
   ]
  },
  {
   "cell_type": "markdown",
   "id": "524fd5ad",
   "metadata": {},
   "source": [
    "## Q24: Print the pattern \n",
    "E <br>\n",
    "DD <br>\n",
    "CCC <br>\n",
    "BBBB <br>\n",
    "AAAAA <br>"
   ]
  },
  {
   "cell_type": "code",
   "execution_count": 84,
   "id": "7882709c",
   "metadata": {},
   "outputs": [
    {
     "name": "stdout",
     "output_type": "stream",
     "text": [
      "enter the number of rows : 5\n",
      "The Pattern is : \n",
      "E\n",
      "DD\n",
      "CCC\n",
      "BBBB\n",
      "AAAAA\n"
     ]
    }
   ],
   "source": [
    "def pattern_24(n):\n",
    "    p=69\n",
    "    for i in range(n):\n",
    "        for j in range(i+1):\n",
    "            print(chr(p),end='')\n",
    "        p-=1\n",
    "        print()\n",
    "    \n",
    "rows = int(input(\"enter the number of rows : \"))\n",
    "print('The Pattern is : ')\n",
    "pattern_24(rows)"
   ]
  },
  {
   "cell_type": "code",
   "execution_count": 49,
   "id": "b19770f8",
   "metadata": {},
   "outputs": [],
   "source": [
    "### Q25: Print this Pattern \n",
    "#     A  \n",
    "#    BBB \n",
    "#   CCCCC \n",
    "#  DDDDDDD \n",
    "# EEEEEEEEE\n",
    "#  FFFFFFF \n",
    "#   GGGGG \n",
    "#    HHH \n",
    "#     I "
   ]
  },
  {
   "cell_type": "code",
   "execution_count": 50,
   "id": "f6f9f794",
   "metadata": {},
   "outputs": [
    {
     "name": "stdout",
     "output_type": "stream",
     "text": [
      "enter the number of rows : 5\n",
      "The Pattern is : \n",
      "     A\n",
      "    BBB\n",
      "   CCCCC\n",
      "  DDDDDDD\n",
      " EEEEEEEEE\n",
      "  FFFFFFF\n",
      "   GGGGG\n",
      "    HHH\n",
      "     I\n"
     ]
    }
   ],
   "source": [
    "def pattern_25(n):\n",
    "    \n",
    "    p=65\n",
    "    for i in range(n-1):\n",
    "        ## for spaces \n",
    "        for j in range(i,n):\n",
    "            print(' ',end='')\n",
    "        ## for printing the symbols\n",
    "        for j in range(i):\n",
    "            print(chr(p), end='')\n",
    "        for j in range(i+1):\n",
    "            print(chr(p), end='')\n",
    "        p+=1\n",
    "        print()\n",
    "        \n",
    "    for i in range(n):\n",
    "        ## for spaces \n",
    "        for j in range(i+1):\n",
    "            print(' ',end='')\n",
    "        ## for printing the symbols\n",
    "        for j in range(i,n-1):\n",
    "            print(chr(p), end='')\n",
    "        for j in range(i,n):\n",
    "            print(chr(p), end='')\n",
    "        p+=1\n",
    "        print()\n",
    "\n",
    "\n",
    "rows = int(input(\"enter the number of rows : \"))\n",
    "print('The Pattern is : ')\n",
    "pattern_25(rows)"
   ]
  },
  {
   "cell_type": "code",
   "execution_count": 51,
   "id": "031845c2",
   "metadata": {},
   "outputs": [],
   "source": [
    "### Q26: Print this Pattern \n",
    "#     A  \n",
    "#    BBB \n",
    "#   CCCCC \n",
    "#  DDDDDDD \n",
    "# EEEEEEEEE\n",
    "#  DDDDDDD \n",
    "#   CCCCC \n",
    "#    BBB \n",
    "#     A"
   ]
  },
  {
   "cell_type": "code",
   "execution_count": 52,
   "id": "cab0f15b",
   "metadata": {},
   "outputs": [
    {
     "name": "stdout",
     "output_type": "stream",
     "text": [
      "enter the number of rows : 5\n",
      "The Pattern is : \n",
      "     A\n",
      "    BBB\n",
      "   CCCCC\n",
      "  DDDDDDD\n",
      " EEEEEEEEE\n",
      "  DDDDDDD\n",
      "   CCCCC\n",
      "    BBB\n",
      "     A\n"
     ]
    }
   ],
   "source": [
    "def pattern_26(n):\n",
    "    \n",
    "    p=65\n",
    "    for i in range(n-1):\n",
    "        ## for spaces \n",
    "        for j in range(i,n):\n",
    "            print(' ',end='')\n",
    "        ## for printing the symbols\n",
    "        for j in range(i):\n",
    "            print(chr(p), end='')\n",
    "        for j in range(i+1):\n",
    "            print(chr(p), end='')\n",
    "        p+=1\n",
    "        print()\n",
    "        \n",
    "    for i in range(n):\n",
    "        ## for spaces \n",
    "        for j in range(i+1):\n",
    "            print(' ',end='')\n",
    "        ## for printing the symbols\n",
    "        for j in range(i,n-1):\n",
    "            print(chr(p), end='')\n",
    "        for j in range(i,n):\n",
    "            print(chr(p), end='')\n",
    "        p-=1\n",
    "        print()\n",
    "\n",
    "\n",
    "rows = int(input(\"enter the number of rows : \"))\n",
    "print('The Pattern is : ')\n",
    "pattern_26(rows)"
   ]
  },
  {
   "cell_type": "markdown",
   "id": "db8e7ace",
   "metadata": {},
   "source": [
    "## Q27: Print the pattern \n",
    "A <br>\n",
    "CC <br>\n",
    "EEE <br>\n",
    "GGGG <br>\n",
    "IIIII <br>"
   ]
  },
  {
   "cell_type": "code",
   "execution_count": 82,
   "id": "610e46f6",
   "metadata": {},
   "outputs": [
    {
     "name": "stdout",
     "output_type": "stream",
     "text": [
      "enter the number of rows : 5\n",
      "The Pattern is : \n",
      "A\n",
      "CC\n",
      "EEE\n",
      "GGGG\n",
      "IIIII\n"
     ]
    }
   ],
   "source": [
    "def pattern_27(n):\n",
    "    p=65\n",
    "    for i in range(n):\n",
    "        for j in range(i+1):\n",
    "            print(chr(p),end='')\n",
    "        p+=2\n",
    "        print()\n",
    "    \n",
    "rows = int(input(\"enter the number of rows : \"))\n",
    "print('The Pattern is : ')\n",
    "pattern_27(rows)"
   ]
  },
  {
   "cell_type": "markdown",
   "id": "33e9491f",
   "metadata": {},
   "source": [
    "## Q28: Print the pattern \n",
    "A <br>\n",
    "BB <br>\n",
    "AAA <br>\n",
    "BBBB <br>\n",
    "AAAAA <br>"
   ]
  },
  {
   "cell_type": "code",
   "execution_count": 62,
   "id": "cc02c565",
   "metadata": {},
   "outputs": [
    {
     "name": "stdout",
     "output_type": "stream",
     "text": [
      "enter the number of rows : 5\n",
      "The Pattern is : \n",
      "A\n",
      "BB\n",
      "AAA\n",
      "BBBB\n",
      "AAAAA\n"
     ]
    }
   ],
   "source": [
    "def pattern_28(n):    \n",
    "    for i in range(n):\n",
    "        for j in range(i+1):\n",
    "            if i%2==0:\n",
    "                print('A',end='')\n",
    "            else:\n",
    "                print('B',end='')\n",
    "        print()\n",
    "    \n",
    "rows = int(input(\"enter the number of rows : \"))\n",
    "print('The Pattern is : ')\n",
    "pattern_28(rows)"
   ]
  },
  {
   "cell_type": "markdown",
   "id": "b42a4056",
   "metadata": {},
   "source": [
    "## Q29: Print the pattern \n",
    "A <br>\n",
    "AB <br>\n",
    "ABC <br>\n",
    "ABCD <br>\n",
    "ABCDE <br>"
   ]
  },
  {
   "cell_type": "code",
   "execution_count": 65,
   "id": "f8e5e5ac",
   "metadata": {},
   "outputs": [
    {
     "name": "stdout",
     "output_type": "stream",
     "text": [
      "enter the number of rows : 5\n",
      "The Pattern is : \n",
      "A\n",
      "AB\n",
      "ABC\n",
      "ABCD\n",
      "ABCDE\n"
     ]
    }
   ],
   "source": [
    "def pattern_29(n):\n",
    "    \n",
    "    for i in range(n):\n",
    "        p=65\n",
    "        for j in range(i+1):\n",
    "            print(chr(p),end='')\n",
    "            p+=1\n",
    "        print()\n",
    "    \n",
    "rows = int(input(\"enter the number of rows : \"))\n",
    "print('The Pattern is : ')\n",
    "pattern_29(rows)"
   ]
  },
  {
   "cell_type": "code",
   "execution_count": 66,
   "id": "c5b7b739",
   "metadata": {},
   "outputs": [],
   "source": [
    "# Q30: Print this pattern\n",
    "\n",
    "# ABCDE\n",
    "#  ABCD\n",
    "#   ABC\n",
    "#    AB\n",
    "#     A"
   ]
  },
  {
   "cell_type": "code",
   "execution_count": 68,
   "id": "a25b75a1",
   "metadata": {},
   "outputs": [
    {
     "name": "stdout",
     "output_type": "stream",
     "text": [
      "enter the number of rows : 5\n",
      "The Pattern is : \n",
      "ABCDE\n",
      " ABCD\n",
      "  ABC\n",
      "   AB\n",
      "    A\n"
     ]
    }
   ],
   "source": [
    "def pattern_30(n):\n",
    "    \n",
    "    for i in range(n):\n",
    "        p=65\n",
    "        for j in range(i):\n",
    "            print(' ',end='')\n",
    "        for j in range(i,n):\n",
    "            print(chr(p),end='')\n",
    "            p+=1\n",
    "        print()\n",
    "\n",
    "rows = int(input(\"enter the number of rows : \"))\n",
    "print('The Pattern is : ')\n",
    "pattern_30(rows)"
   ]
  },
  {
   "cell_type": "code",
   "execution_count": 72,
   "id": "d749425e",
   "metadata": {},
   "outputs": [],
   "source": [
    "# Q31: Print this pattern\n",
    "#           A\n",
    "#          ABC\n",
    "#         ABCDE\n",
    "#        ABCDEFG\n",
    "#       ABCDEFGHI"
   ]
  },
  {
   "cell_type": "code",
   "execution_count": 73,
   "id": "75170e78",
   "metadata": {},
   "outputs": [
    {
     "name": "stdout",
     "output_type": "stream",
     "text": [
      "enter the number of rows : 5\n",
      "The Pattern is : \n",
      "     A\n",
      "    ABC\n",
      "   ABCDE\n",
      "  ABCDEFG\n",
      " ABCDEFGHI\n"
     ]
    }
   ],
   "source": [
    "def pattern_31(n):                             \n",
    "    for i in range(n):\n",
    "        p=65\n",
    "        ## for spaces \n",
    "        for j in range(i,n):\n",
    "            print(' ',end='')\n",
    "        ## for printing the symbols\n",
    "        for j in range(i):\n",
    "            print(chr(p), end='')\n",
    "            p+=1\n",
    "        for j in range(i+1):\n",
    "            print(chr(p), end='')\n",
    "            p+=1\n",
    "        print()\n",
    "\n",
    "rows = int(input(\"enter the number of rows : \"))\n",
    "print('The Pattern is : ')\n",
    "pattern_31(rows)"
   ]
  },
  {
   "cell_type": "code",
   "execution_count": 74,
   "id": "ed3a5913",
   "metadata": {},
   "outputs": [],
   "source": [
    "# Q32: Print this pattern\n",
    "#           A\n",
    "#          ABA\n",
    "#         ABCBA\n",
    "#        ABCDCBA\n",
    "#       ABCDEDCBA"
   ]
  },
  {
   "cell_type": "code",
   "execution_count": 77,
   "id": "8068ebab",
   "metadata": {},
   "outputs": [
    {
     "name": "stdout",
     "output_type": "stream",
     "text": [
      "enter the number of rows : 5\n",
      "The Pattern is : \n",
      "     A\n",
      "    ABA\n",
      "   ABCBA\n",
      "  ABCDCBA\n",
      " ABCDEDCBA\n"
     ]
    }
   ],
   "source": [
    "def pattern_32(n):                             \n",
    "    for i in range(n):\n",
    "        p=65\n",
    "        ## for spaces \n",
    "        for j in range(i,n):\n",
    "            print(' ',end='')\n",
    "        ## for printing the symbols\n",
    "        for j in range(i):\n",
    "            print(chr(p), end='')\n",
    "            p+=1\n",
    "        for j in range(i+1):\n",
    "            print(chr(p), end='')\n",
    "            p-=1\n",
    "        print()\n",
    "\n",
    "rows = int(input(\"enter the number of rows : \"))\n",
    "print('The Pattern is : ')\n",
    "pattern_32(rows)"
   ]
  },
  {
   "cell_type": "markdown",
   "id": "7d04a3b0",
   "metadata": {},
   "source": [
    "## Q33: Print the pattern \n",
    "E <br>\n",
    "ED <br>\n",
    "EDC <br>\n",
    "EDCB <br>\n",
    "EDCBA <br>"
   ]
  },
  {
   "cell_type": "code",
   "execution_count": 81,
   "id": "8bff6b31",
   "metadata": {},
   "outputs": [
    {
     "name": "stdout",
     "output_type": "stream",
     "text": [
      "enter the number of rows : 5\n",
      "The Pattern is : \n",
      "E\n",
      "ED\n",
      "EDC\n",
      "EDCB\n",
      "EDCBA\n"
     ]
    }
   ],
   "source": [
    "def pattern_33(n):\n",
    "    \n",
    "    for i in range(n):\n",
    "        p=69\n",
    "        for j in range(i+1):\n",
    "            print(chr(p),end='')\n",
    "            p-=1\n",
    "        print()\n",
    "    \n",
    "rows = int(input(\"enter the number of rows : \"))\n",
    "print('The Pattern is : ')\n",
    "pattern_33(rows)"
   ]
  },
  {
   "cell_type": "code",
   "execution_count": 85,
   "id": "ed51abcc",
   "metadata": {},
   "outputs": [],
   "source": [
    "# Q34: Print this pattern\n",
    "\n",
    "# EDCBA\n",
    "#  DCBA\n",
    "#   CBA\n",
    "#    BA\n",
    "#     A"
   ]
  },
  {
   "cell_type": "code",
   "execution_count": 89,
   "id": "0096a5e3",
   "metadata": {},
   "outputs": [
    {
     "name": "stdout",
     "output_type": "stream",
     "text": [
      "enter the number of rows : 5\n",
      "The Pattern is : \n",
      "EDCBA\n",
      " DCBA\n",
      "  CBA\n",
      "   BA\n",
      "    A\n"
     ]
    }
   ],
   "source": [
    "def pattern_34(n):\n",
    "    k=69\n",
    "    for i in range(n):\n",
    "        p=k\n",
    "        for j in range(i):\n",
    "            print(' ',end='')\n",
    "        for j in range(i,n):\n",
    "            print(chr(p),end='')\n",
    "            p-=1\n",
    "        k-=1\n",
    "        print()\n",
    "\n",
    "rows = int(input(\"enter the number of rows : \"))\n",
    "print('The Pattern is : ')\n",
    "pattern_34(rows)"
   ]
  },
  {
   "cell_type": "markdown",
   "id": "70c1f326",
   "metadata": {},
   "source": [
    " # ----- Strings Patterns (by taking example of coder) -----"
   ]
  },
  {
   "cell_type": "code",
   "execution_count": 90,
   "id": "7d70f837",
   "metadata": {},
   "outputs": [
    {
     "name": "stdout",
     "output_type": "stream",
     "text": [
      "C\n",
      "OO\n",
      "DDD\n",
      "EEEE\n",
      "RRRRR\n"
     ]
    }
   ],
   "source": [
    "# Question 1:\n",
    "\n",
    "def pattern_35(s):\n",
    "    n=len(s)\n",
    "    p=0\n",
    "    for i in range(n):\n",
    "        for i in range(i+1):\n",
    "            print(s[p],end='')\n",
    "        p+=1\n",
    "        print()\n",
    "\n",
    "\n",
    "s = 'CODER'\n",
    "pattern_35(s)"
   ]
  },
  {
   "cell_type": "code",
   "execution_count": 93,
   "id": "c6275af0",
   "metadata": {},
   "outputs": [
    {
     "name": "stdout",
     "output_type": "stream",
     "text": [
      "R\n",
      "EE\n",
      "DDD\n",
      "OOOO\n",
      "CCCCC\n"
     ]
    }
   ],
   "source": [
    "# Question 2:\n",
    "\n",
    "def pattern_36(s):\n",
    "    n=len(s)\n",
    "    p=n-1\n",
    "    for i in range(n):\n",
    "        for i in range(i+1):\n",
    "            print(s[p],end='')\n",
    "        p-=1\n",
    "        print()\n",
    "\n",
    "\n",
    "s = 'CODER'\n",
    "pattern_36(s)"
   ]
  },
  {
   "cell_type": "code",
   "execution_count": 3,
   "id": "5075dc6a",
   "metadata": {},
   "outputs": [
    {
     "name": "stdout",
     "output_type": "stream",
     "text": [
      "S\n",
      "SH\n",
      "SHI\n",
      "SHIV\n",
      "SHIVI\n",
      "SHIVIK\n",
      "SHIVIKA\n"
     ]
    }
   ],
   "source": [
    "# Question 3:\n",
    "\n",
    "def pattern_37(s):\n",
    "    n=len(s)\n",
    "    for i in range(n):\n",
    "        p=0\n",
    "        for i in range(i+1):\n",
    "            print(s[p],end='')\n",
    "            p+=1\n",
    "        print()\n",
    "\n",
    "    \n",
    "    \n",
    "\n",
    "s = 'SHIVIKA'\n",
    "pattern_37(s)"
   ]
  },
  {
   "cell_type": "code",
   "execution_count": 99,
   "id": "4459aeba",
   "metadata": {},
   "outputs": [
    {
     "name": "stdout",
     "output_type": "stream",
     "text": [
      "R\n",
      "RE\n",
      "RED\n",
      "REDO\n",
      "REDOC\n"
     ]
    }
   ],
   "source": [
    "# Question 4:\n",
    "\n",
    "def pattern_38(s):\n",
    "    n=len(s)\n",
    "    for i in range(n):\n",
    "        p=n-1\n",
    "        for i in range(i+1):\n",
    "            print(s[p],end='')\n",
    "            p-=1\n",
    "        print()\n",
    "\n",
    "\n",
    "s = 'CODER'\n",
    "pattern_38(s)"
   ]
  },
  {
   "cell_type": "code",
   "execution_count": 107,
   "id": "48f78aff",
   "metadata": {},
   "outputs": [
    {
     "name": "stdout",
     "output_type": "stream",
     "text": [
      "REDOC\n",
      " REDO\n",
      "  RED\n",
      "   RE\n",
      "    R\n"
     ]
    }
   ],
   "source": [
    "# Question 5:\n",
    "\n",
    "def pattern_38(s):\n",
    "    n=len(s)\n",
    "    k=n-1\n",
    "    for i in range(n):\n",
    "        p=k\n",
    "        for j in range(i):\n",
    "            print(' ',end='')\n",
    "        for j in range(i,n):\n",
    "            print(s[p],end='')\n",
    "            p-=1\n",
    "        k=-1\n",
    "        print()\n",
    "s = 'CODER'\n",
    "pattern_38(s)"
   ]
  },
  {
   "cell_type": "markdown",
   "id": "6595d8c2",
   "metadata": {},
   "source": [
    "# ----- Hollow Patterns -----"
   ]
  },
  {
   "cell_type": "markdown",
   "id": "2b31f8a0",
   "metadata": {},
   "source": [
    "## 1. Heart Shape"
   ]
  },
  {
   "cell_type": "code",
   "execution_count": 9,
   "id": "87e7a931",
   "metadata": {},
   "outputs": [
    {
     "name": "stdout",
     "output_type": "stream",
     "text": [
      " .. .. \n",
      ".  .  .\n",
      ".     .\n",
      " .   . \n",
      "  . .  \n",
      "   .   \n"
     ]
    }
   ],
   "source": [
    "def heart():\n",
    "    for row in range(6):\n",
    "        for col  in range(7):\n",
    "            if (row==0 and col%3!=0) or (row==1 and col%3==0) or (row-col==2) or (row+col==8):\n",
    "                print(\".\",end=\"\")\n",
    "            else:\n",
    "                print(\" \",end=\"\")\n",
    "        print()\n",
    "        \n",
    "heart()"
   ]
  },
  {
   "cell_type": "code",
   "execution_count": null,
   "id": "060801a8",
   "metadata": {},
   "outputs": [],
   "source": []
  },
  {
   "cell_type": "code",
   "execution_count": null,
   "id": "53c8d18e",
   "metadata": {},
   "outputs": [],
   "source": []
  }
 ],
 "metadata": {
  "kernelspec": {
   "display_name": "Python 3 (ipykernel)",
   "language": "python",
   "name": "python3"
  },
  "language_info": {
   "codemirror_mode": {
    "name": "ipython",
    "version": 3
   },
   "file_extension": ".py",
   "mimetype": "text/x-python",
   "name": "python",
   "nbconvert_exporter": "python",
   "pygments_lexer": "ipython3",
   "version": "3.11.4"
  }
 },
 "nbformat": 4,
 "nbformat_minor": 5
}
