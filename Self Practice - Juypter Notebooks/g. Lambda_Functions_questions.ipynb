{
 "cells": [
  {
   "cell_type": "code",
   "execution_count": 2,
   "id": "e1901f00",
   "metadata": {},
   "outputs": [
    {
     "name": "stdout",
     "output_type": "stream",
     "text": [
      "8\n"
     ]
    }
   ],
   "source": [
    "## return the length of string using lambda\n",
    "string_len = lambda s:len(s)\n",
    "print(string_len('amarjeet'))"
   ]
  },
  {
   "cell_type": "code",
   "execution_count": 5,
   "id": "3c0cd855",
   "metadata": {},
   "outputs": [
    {
     "name": "stdout",
     "output_type": "stream",
     "text": [
      "[1, 4, 9, 16, 25, 36]\n"
     ]
    }
   ],
   "source": [
    "## convert a list of intergers to their corresponding square values:\n",
    "numbers = [1,2,3,4,5,6]\n",
    "squares = list(map(lambda x:x**2,numbers))\n",
    "print(squares)"
   ]
  },
  {
   "cell_type": "code",
   "execution_count": 7,
   "id": "cf4922da",
   "metadata": {},
   "outputs": [
    {
     "name": "stdout",
     "output_type": "stream",
     "text": [
      "[2, 4, 6]\n"
     ]
    }
   ],
   "source": [
    "## filter out even numbers from a list \n",
    "numbers = [1,2,3,4,5,6]\n",
    "filter_list = list(filter(lambda x:x%2==0,numbers))\n",
    "print(filter_list)"
   ]
  },
  {
   "cell_type": "code",
   "execution_count": 17,
   "id": "8004f976",
   "metadata": {},
   "outputs": [
    {
     "data": {
      "text/plain": [
       "['amar', 'sonu', 'vansh', 'ayesha', 'vishal', 'yuvika', 'shivika', 'sheetal']"
      ]
     },
     "execution_count": 17,
     "metadata": {},
     "output_type": "execute_result"
    }
   ],
   "source": [
    "## sort a list of strings based on length\n",
    "name = ['amar', 'vansh','ayesha','shivika','sheetal','sonu','vishal','yuvika']\n",
    "sorted(name,key=lambda x:len(x))\n"
   ]
  },
  {
   "cell_type": "code",
   "execution_count": 19,
   "id": "cb5adafa",
   "metadata": {},
   "outputs": [
    {
     "data": {
      "text/plain": [
       "[{'name': 'Tablet', 'price': 399.99, 'brand': 'Samsung', 'in_stock': True},\n",
       " {'name': 'Smartphone', 'price': 699.99, 'brand': 'Apple', 'in_stock': False},\n",
       " {'name': 'Laptop', 'price': 999.99, 'brand': 'Dell', 'in_stock': True}]"
      ]
     },
     "execution_count": 19,
     "metadata": {},
     "output_type": "execute_result"
    }
   ],
   "source": [
    "## \n",
    "products3 = [\n",
    "     {\n",
    "        \"name\": \"Laptop\",\n",
    "        \"price\": 999.99,\n",
    "        \"brand\": \"Dell\",\n",
    "        \"in_stock\": True\n",
    "    },\n",
    "     {\n",
    "        \"name\": \"Smartphone\",\n",
    "        \"price\": 699.99,\n",
    "        \"brand\": \"Apple\",\n",
    "        \"in_stock\": False\n",
    "    },\n",
    "     {\n",
    "        \"name\": \"Tablet\",\n",
    "        \"price\": 399.99,\n",
    "        \"brand\": \"Samsung\",\n",
    "        \"in_stock\": True\n",
    "    }\n",
    "]\n",
    "\n",
    "sorted(products3, key=lambda x:x['price'])## for just sorting in one name\n",
    "sorted(products3, key=lambda x:(x['price'],x['name']))\n"
   ]
  },
  {
   "cell_type": "code",
   "execution_count": 21,
   "id": "3b40dc62",
   "metadata": {},
   "outputs": [
    {
     "data": {
      "text/plain": [
       "'b'"
      ]
     },
     "execution_count": 21,
     "metadata": {},
     "output_type": "execute_result"
    }
   ],
   "source": [
    "## finding the maximum value in a dictionary\n",
    "data ={'a' : 10,'b':20,'c':5,'d':15}\n",
    "max(data,key=lambda x:data[x])\n"
   ]
  },
  {
   "cell_type": "code",
   "execution_count": null,
   "id": "73971d63",
   "metadata": {},
   "outputs": [],
   "source": []
  }
 ],
 "metadata": {
  "kernelspec": {
   "display_name": "Python 3 (ipykernel)",
   "language": "python",
   "name": "python3"
  },
  "language_info": {
   "codemirror_mode": {
    "name": "ipython",
    "version": 3
   },
   "file_extension": ".py",
   "mimetype": "text/x-python",
   "name": "python",
   "nbconvert_exporter": "python",
   "pygments_lexer": "ipython3",
   "version": "3.11.4"
  }
 },
 "nbformat": 4,
 "nbformat_minor": 5
}
