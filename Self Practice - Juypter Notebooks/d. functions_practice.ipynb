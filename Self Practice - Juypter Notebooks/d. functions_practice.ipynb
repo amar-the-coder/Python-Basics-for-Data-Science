{
 "cells": [
  {
   "cell_type": "markdown",
   "id": "cb0d97de",
   "metadata": {},
   "source": [
    "#### Q: create a function to check if a number is divisible by 2 and 3 both"
   ]
  },
  {
   "cell_type": "code",
   "execution_count": 5,
   "id": "615ca256",
   "metadata": {},
   "outputs": [
    {
     "name": "stdout",
     "output_type": "stream",
     "text": [
      "Check the number is divisble by 2 and 3 -- \n",
      "enter the number : 23\n"
     ]
    },
    {
     "data": {
      "text/plain": [
       "'23 is not divisble'"
      ]
     },
     "execution_count": 5,
     "metadata": {},
     "output_type": "execute_result"
    }
   ],
   "source": [
    "def check(n):\n",
    "    if n%2==0 and n%3==0:\n",
    "        return f'{n} is divisble'\n",
    "    \n",
    "    return f'{n} is not divisble'\n",
    "\n",
    "print(\"Check the number is divisble by 2 and 3 -- \")\n",
    "num = int(input('enter the number : '))\n",
    "check(num)"
   ]
  },
  {
   "cell_type": "markdown",
   "id": "2a23062b",
   "metadata": {},
   "source": [
    "#### Q: create a function isPrime() that takes in a number and returns True if the number is Prime Otherwise returns False.\n"
   ]
  },
  {
   "cell_type": "code",
   "execution_count": 17,
   "id": "e664ed50",
   "metadata": {},
   "outputs": [
    {
     "name": "stdout",
     "output_type": "stream",
     "text": [
      "-------------------prime number-----------------\n",
      "enter the number : 56\n"
     ]
    },
    {
     "data": {
      "text/plain": [
       "False"
      ]
     },
     "execution_count": 17,
     "metadata": {},
     "output_type": "execute_result"
    }
   ],
   "source": [
    "def prime(n):\n",
    "    is_prime = True\n",
    "    if n<=0:\n",
    "        return f' {n} is not a prime number. May be You have enter 0 or a negative value.'\n",
    "    elif n==1:\n",
    "        return f' {n} is not a prime number'\n",
    "    else:\n",
    "        for i in range(2, int(n/2)+1):\n",
    "            if n%i==0:\n",
    "                is_prime = False\n",
    "                return is_prime\n",
    "    \n",
    "    return is_prime\n",
    "print('-------------------prime number-----------------')\n",
    "num = int(input('enter the number : '))\n",
    "prime(num)\n"
   ]
  },
  {
   "cell_type": "markdown",
   "id": "505e2177",
   "metadata": {},
   "source": [
    "#### Q: create a function that takes in a list and returns a dictionary of how many times each value is occuring in that list"
   ]
  },
  {
   "cell_type": "code",
   "execution_count": 21,
   "id": "392877a3",
   "metadata": {},
   "outputs": [
    {
     "data": {
      "text/plain": [
       "{1: 4, 2: 3, 3: 2, 4: 3, 5: 2, 6: 3, 7: 2, 9: 2}"
      ]
     },
     "execution_count": 21,
     "metadata": {},
     "output_type": "execute_result"
    }
   ],
   "source": [
    "def value(list_1):\n",
    "    value_dict ={}\n",
    "    for element in list_1:\n",
    "        if element in value_dict:\n",
    "            value_dict[element]+=1\n",
    "        else:\n",
    "            value_dict[element]=1\n",
    "    return value_dict\n",
    "\n",
    "    \n",
    "list_ = [1,1,2,2,3,4,5,6,6,7,7,9,9,5,4,3,2,1,1,4,6]\n",
    "value(list_)"
   ]
  },
  {
   "cell_type": "markdown",
   "id": "d1cfca54",
   "metadata": {},
   "source": [
    "#### Q: create function that takes in a string as an argument and returns a dictionary of all the words and their respective counts. Provide a count threshold so that the user can filter how the minimum count of the words returned."
   ]
  },
  {
   "cell_type": "code",
   "execution_count": 13,
   "id": "06ff2b4e",
   "metadata": {},
   "outputs": [],
   "source": [
    "String ='''The Board of Control for Cricket in India (BCCI) is facing criticism over low attendance for the first few\n",
    "matches of the ICC World Cup 2023 and ticket sales mismanagement.\"I have seen World Cup matches across the world. You \n",
    "have ballots and once you choose matches you can get tickets to one or more matches. Even in Wimbledon, the ballot is \n",
    "open for a few days and then a draw of lots is done,\" wrote one user on X (formerly Twitter).'''\n",
    "\n",
    "words = String.replace('\"',\"\").replace('(',\"\").replace(')',\"\").replace(',',\"\").replace('.',\"\")"
   ]
  },
  {
   "cell_type": "code",
   "execution_count": 14,
   "id": "866b8821",
   "metadata": {},
   "outputs": [],
   "source": [
    "\n",
    "words = words.replace(\"\\n\",'')"
   ]
  },
  {
   "cell_type": "code",
   "execution_count": 15,
   "id": "cd65f761",
   "metadata": {},
   "outputs": [
    {
     "data": {
      "text/plain": [
       "{'t': 30,\n",
       " 'h': 13,\n",
       " 'e': 40,\n",
       " ' ': 79,\n",
       " 'b': 5,\n",
       " 'o': 35,\n",
       " 'a': 25,\n",
       " 'r': 21,\n",
       " 'd': 13,\n",
       " 'f': 11,\n",
       " 'c': 23,\n",
       " 'n': 23,\n",
       " 'l': 13,\n",
       " 'i': 21,\n",
       " 'k': 3,\n",
       " 's': 21,\n",
       " 'g': 3,\n",
       " 'm': 11,\n",
       " 'v': 4,\n",
       " 'w': 10,\n",
       " 'u': 6,\n",
       " 'p': 3,\n",
       " '2': 2,\n",
       " '0': 1,\n",
       " '3': 1,\n",
       " 'y': 5,\n",
       " 'x': 1}"
      ]
     },
     "execution_count": 15,
     "metadata": {},
     "output_type": "execute_result"
    }
   ],
   "source": [
    "def str_counts(word):\n",
    "    \n",
    "    words_count = {}\n",
    "    for letter in words.lower():\n",
    "        if letter in words_count:\n",
    "            words_count[letter]+=1\n",
    "        else:\n",
    "            words_count[letter]=1\n",
    "    return words_count\n",
    "        \n",
    "str_counts(words)\n",
    "\n",
    "        "
   ]
  },
  {
   "cell_type": "markdown",
   "id": "d19dc1a0",
   "metadata": {},
   "source": [
    "#### Q: Create a function that calculates the area of a shape. The type of shape should also be passed by the user. triangle square circle\n"
   ]
  },
  {
   "cell_type": "code",
   "execution_count": 62,
   "id": "8b720134",
   "metadata": {},
   "outputs": [
    {
     "name": "stdout",
     "output_type": "stream",
     "text": [
      "enter the shape: Triangle, Square, Circlesquare\n",
      "enter the side : 2\n",
      "The area is : 4.0\n"
     ]
    }
   ],
   "source": [
    "def calculate_area(shape, **dimensions):\n",
    "    \n",
    "    if shape == 'square':\n",
    "        area = dimensions['side']**2\n",
    "    elif shape == 'triangle':\n",
    "        area = 0.5 * dimensions['base']* dimensions['height']\n",
    "    elif shape == 'circle':\n",
    "        area = 3.14 * dimensions['radius']**2\n",
    "\n",
    "    \n",
    "    return area\n",
    "    \n",
    "    \n",
    "shape = input(\"enter the shape: Triangle, Square, Circle\").lower()\n",
    "if shape == 'square':\n",
    "    side = float(input(\"enter the side : \"))\n",
    "    print(f'The area is : {calculate_area(shape, side=side)}')\n",
    "\n",
    "\n",
    "elif shape == 'triangle':\n",
    "    base = float(input(\"enter the base : \"))\n",
    "    height = float(input(\"enter the height : \"))\n",
    "    print(f'The area is : {calculate_area(shape,base=base,height=height)}')\n",
    "\n",
    "elif shape == 'circle':\n",
    "    radius = float(input(\"enter the radius : \"))\n",
    "    print(f'The area is : {calculate_area(shape, radius=radius)}')\n",
    "else:\n",
    "    print(\"you have give invalid shape\")\n",
    "\n",
    "\n"
   ]
  },
  {
   "cell_type": "markdown",
   "id": "f218f31c",
   "metadata": {},
   "source": [
    "#### Q1: Write a Python function that takes two integers as parameters and returns their sum."
   ]
  },
  {
   "cell_type": "code",
   "execution_count": 2,
   "id": "1531d9d8",
   "metadata": {},
   "outputs": [
    {
     "name": "stdout",
     "output_type": "stream",
     "text": [
      "enter variable 1 : 2\n",
      "enter variable 2 : 3\n",
      "The Sum is : 5\n"
     ]
    }
   ],
   "source": [
    "def sum_(a,b):\n",
    "    return a+b\n",
    "num_1 = int(input(\"enter variable 1 : \"))\n",
    "num_2 = int(input(\"enter variable 2 : \"))\n",
    "print(f'The Sum is : {sum_(num_1,num_2)}')"
   ]
  },
  {
   "cell_type": "markdown",
   "id": "f4658092",
   "metadata": {},
   "source": [
    "#### Q2: Create a function that takes a list of numbers as input and returns the average of those numbers."
   ]
  },
  {
   "cell_type": "code",
   "execution_count": 3,
   "id": "b991991f",
   "metadata": {},
   "outputs": [
    {
     "name": "stdout",
     "output_type": "stream",
     "text": [
      " The average is : 5.333333333333333\n"
     ]
    }
   ],
   "source": [
    "def average(l):\n",
    "    return sum(l)/len(l)\n",
    "     # logic 2:\n",
    "     # sum_ =0\n",
    "     # count_=0\n",
    "     # for i in l:\n",
    "     # sum+=i\n",
    "     # count+=1\n",
    "     # aver = sum_/count_\n",
    "     # return aver\n",
    "        \n",
    "list_ =[1,2,3,4,5,6,7,8,8,9,9,2]\n",
    "print(f' The average is : {average(list_)}')\n"
   ]
  },
  {
   "cell_type": "markdown",
   "id": "ea4216f9",
   "metadata": {},
   "source": [
    "#### Q3: Write a function that checks whether a given number is prime or not. The function should take an integer as input and return True if it's prime, and False otherwise."
   ]
  },
  {
   "cell_type": "code",
   "execution_count": 10,
   "id": "b5332798",
   "metadata": {},
   "outputs": [
    {
     "name": "stdout",
     "output_type": "stream",
     "text": [
      "enter the number0\n",
      "The 0 is not prime. May be you have enter o or a negative value.\n"
     ]
    }
   ],
   "source": [
    "def prime(n):\n",
    "    if n<=0:\n",
    "        return f'The {n} is not prime. May be you have enter o or a negative value.'\n",
    "    \n",
    "    if n==1:\n",
    "        return f'{n} is not prime'\n",
    "    count=0\n",
    "    for i in range(1,n+1):\n",
    "        if n%i==0:\n",
    "            count+=1\n",
    "    \n",
    "    if count==2:\n",
    "        return True\n",
    "    \n",
    "    return False\n",
    "    \n",
    "    \n",
    "num = int(input(\"enter the number : \"))\n",
    "result = prime(num)\n",
    "print(result)"
   ]
  },
  {
   "cell_type": "markdown",
   "id": "8d0ff359",
   "metadata": {},
   "source": [
    "#### Q4: Create a function that accepts a string as a parameter and counts the number of vowels (a, e, i, o, u) in the string. The function should return the count.\n"
   ]
  },
  {
   "cell_type": "code",
   "execution_count": 17,
   "id": "fccef4a0",
   "metadata": {},
   "outputs": [],
   "source": [
    "String ='''The Board of Control for Cricket in India BCCI is facing criticism over low attendance for the first fewmatches of the ICC World Cup 2023 and ticket sales mismanagementI have seen World Cup matches across the world You have ballots and once you choose matches you can get tickets to one or more matches Even in Wimbledon the ballot is open for a few days and then a draw of lots is done wrote one user on X formerly Twitter'''"
   ]
  },
  {
   "cell_type": "code",
   "execution_count": 21,
   "id": "a10a2e07",
   "metadata": {},
   "outputs": [
    {
     "name": "stdout",
     "output_type": "stream",
     "text": [
      "The count of Vowels is : 127\n"
     ]
    }
   ],
   "source": [
    "def vowel(String):\n",
    "    vowel_count =0\n",
    "    for letter in String.lower():\n",
    "        if letter in ('a','e','i','o','u'):\n",
    "            vowel_count+=1\n",
    "    return vowel_count\n",
    "\n",
    "print(f'The count of Vowels is : {vowel(String)}')\n",
    "\n"
   ]
  },
  {
   "cell_type": "markdown",
   "id": "8382caf9",
   "metadata": {},
   "source": [
    "#### Q5: Write a Python function that takes a list of integers as input and returns the largest number in the list."
   ]
  },
  {
   "cell_type": "code",
   "execution_count": 33,
   "id": "a5a16af8",
   "metadata": {},
   "outputs": [
    {
     "name": "stdout",
     "output_type": "stream",
     "text": [
      "The Max Value is : 100\n",
      "The Min Value is : 1\n"
     ]
    }
   ],
   "source": [
    "def max_min(list_):\n",
    "    max_num = list_[0]\n",
    "    min_num = list_[0]\n",
    "    \n",
    "    for i in range(len(list_)):\n",
    "        if list_[i]> max_num:\n",
    "            max_num = list_[i]\n",
    "        \n",
    "        if list_[i]<min_num:\n",
    "            min_num = list_[i]\n",
    "    print(f'The Max Value is : {max_num}')    \n",
    "    print(f'The Min Value is : {min_num}')\n",
    "    \n",
    "    \n",
    "list_1 = [100,34,56,7,8,9,1,2,4,44,99,45,54,32]\n",
    "max_min(list_1)"
   ]
  },
  {
   "cell_type": "markdown",
   "id": "13db51fa",
   "metadata": {},
   "source": [
    "#### Q6: Create a function that accepts a list of strings and returns a new list with all the strings capitalized."
   ]
  },
  {
   "cell_type": "code",
   "execution_count": 58,
   "id": "15ee9bce",
   "metadata": {},
   "outputs": [
    {
     "name": "stdout",
     "output_type": "stream",
     "text": [
      "Before Capital List is : ['Vanshaj', 'is', 'a', 'good', 'boy']\n",
      "The Capital List is : ['VANSHAJ', 'IS', 'A', 'GOOD', 'BOY']\n"
     ]
    }
   ],
   "source": [
    "def capital(String):\n",
    "    new_list=[]\n",
    "    for i in range(len(String)):\n",
    "        String[i] = String[i].upper()\n",
    "        new_list.append(String[i])\n",
    "    return new_list\n",
    "    \n",
    "str_l = 'Vanshaj is a good boy'\n",
    "str_list = str_l.split()\n",
    "print(f\"Before Capital List is : {str_list}\")\n",
    "print(f'The Capital List is : {capital(str_list)}')"
   ]
  },
  {
   "cell_type": "markdown",
   "id": "a3045fd9",
   "metadata": {},
   "source": [
    "#### Q7: Write a function that takes a string as input and checks if it is a palindrome (reads the same forwards and backwards). The function should return True if it's a palindrome, and False otherwise.\n"
   ]
  },
  {
   "cell_type": "code",
   "execution_count": 83,
   "id": "0505dec9",
   "metadata": {},
   "outputs": [
    {
     "name": "stdout",
     "output_type": "stream",
     "text": [
      "enter the string : Mom\n",
      "False\n"
     ]
    }
   ],
   "source": [
    "def palin(string):\n",
    "    string= string.lower()\n",
    "    i = 0\n",
    "    j = len(string)-1\n",
    "    while i<j:\n",
    "        if string[i]==string[j]:\n",
    "            i+=1\n",
    "            j-=1\n",
    "            return True\n",
    "        else:\n",
    "            return False\n",
    "        \n",
    " ###-----------logic 2--------------      \n",
    "#     if string[0:]== string[::-1]:\n",
    "#         return True \n",
    "    \n",
    "#     return False \n",
    "\n",
    "user_input= input(\"enter the string : \")\n",
    "print(f' Is String Palindrome {palin(user_input)}')"
   ]
  },
  {
   "cell_type": "markdown",
   "id": "1b4685fa",
   "metadata": {},
   "source": [
    "#### Q8: Create a function that calculates the factorial of a given number. The function should take an integer as input and return the factorial."
   ]
  },
  {
   "cell_type": "code",
   "execution_count": 95,
   "id": "a5c8d53f",
   "metadata": {},
   "outputs": [
    {
     "name": "stdout",
     "output_type": "stream",
     "text": [
      "enter the number: 23\n",
      "the factorial is : 25852016738884976640000\n"
     ]
    }
   ],
   "source": [
    "def factorial(n):\n",
    "    output=1\n",
    "    for i in range(1,num+1):\n",
    "        output = output*i\n",
    "    return output\n",
    "num = int(input(\"enter the number: \"))\n",
    "print(f'the factorial is : {factorial(num)}')\n"
   ]
  },
  {
   "cell_type": "markdown",
   "id": "cb1c0ffe",
   "metadata": {},
   "source": [
    "#### Q9: Write a Python function that takes a list of words as input and returns the list sorted alphabetically.\n"
   ]
  },
  {
   "cell_type": "code",
   "execution_count": 108,
   "id": "1919516e",
   "metadata": {},
   "outputs": [
    {
     "name": "stdout",
     "output_type": "stream",
     "text": [
      "['amarjeet', 'ayesha', 'karan', 'sheetal', 'shivika', 'sonu', 'vanshaj', 'vishal']\n"
     ]
    }
   ],
   "source": [
    "def python(words):\n",
    "    words.sort()\n",
    "    print(words)    \n",
    "    \n",
    "list_ = ['amarjeet','vanshaj','sheetal','shivika','ayesha','vishal','karan','sonu']\n",
    "python(list_)"
   ]
  },
  {
   "cell_type": "markdown",
   "id": "c5070a04",
   "metadata": {},
   "source": [
    "#### Q10: Create a function that accepts a string and a character as parameters and returns the number of occurrences of that character in the string."
   ]
  },
  {
   "cell_type": "code",
   "execution_count": 115,
   "id": "c54748b8",
   "metadata": {},
   "outputs": [
    {
     "name": "stdout",
     "output_type": "stream",
     "text": [
      "{'T': 2, 'h': 13, 'e': 39, ' ': 79, 'B': 2, 'o': 35, 'a': 25, 'r': 21, 'd': 13, 'f': 11, 'C': 8, 'n': 23, 't': 28, 'l': 13, 'i': 17, 'c': 15, 'k': 3, 'I': 4, 's': 21, 'g': 3, 'm': 11, 'v': 4, 'w': 7, 'W': 3, 'u': 6, 'p': 3, '2': 2, '0': 1, '3': 1, 'Y': 1, 'b': 3, 'y': 4, 'E': 1, 'X': 1}\n"
     ]
    }
   ],
   "source": [
    "def python_one(Str):\n",
    "    char_count = {}\n",
    "    for letter in Str:\n",
    "        if letter in char_count:\n",
    "            char_count[letter]+=1\n",
    "            \n",
    "        else:\n",
    "            char_count[letter]=1\n",
    "    return char_count\n",
    "\n",
    "\n",
    "print(python_one(words))"
   ]
  },
  {
   "cell_type": "markdown",
   "id": "65951a7a",
   "metadata": {},
   "source": [
    "#### Q: create a function that takes in start value, end value and number of observations and generates that many linearly spaced observations between the start and the end."
   ]
  },
  {
   "cell_type": "code",
   "execution_count": 6,
   "id": "3174bff2",
   "metadata": {},
   "outputs": [
    {
     "name": "stdout",
     "output_type": "stream",
     "text": [
      "Generated linearly spaced observations: [0, 11.11111111111111, 22.22222222222222, 33.33333333333333, 44.44444444444444, 55.55555555555556, 66.66666666666667, 77.77777777777779, 88.8888888888889, 100.00000000000001]\n"
     ]
    }
   ],
   "source": [
    "def generate_linear_space(start, end, num_observations):\n",
    "    observations = []\n",
    "    step = (end - start) / (num_observations - 1)\n",
    "    current_value = start\n",
    "    for _ in range(num_observations):\n",
    "        observations.append(current_value)\n",
    "        current_value += step\n",
    "    return observations\n",
    "# Example usage of the function\n",
    "start_value = 0\n",
    "end_value = 100\n",
    "num_observations = 10\n",
    "\n",
    "result = generate_linear_space(start_value, end_value, num_observations)\n",
    "print(\"Generated linearly spaced observations:\", result)\n"
   ]
  },
  {
   "cell_type": "code",
   "execution_count": null,
   "id": "10d060a7",
   "metadata": {},
   "outputs": [],
   "source": []
  }
 ],
 "metadata": {
  "kernelspec": {
   "display_name": "Python 3 (ipykernel)",
   "language": "python",
   "name": "python3"
  },
  "language_info": {
   "codemirror_mode": {
    "name": "ipython",
    "version": 3
   },
   "file_extension": ".py",
   "mimetype": "text/x-python",
   "name": "python",
   "nbconvert_exporter": "python",
   "pygments_lexer": "ipython3",
   "version": "3.11.4"
  }
 },
 "nbformat": 4,
 "nbformat_minor": 5
}
