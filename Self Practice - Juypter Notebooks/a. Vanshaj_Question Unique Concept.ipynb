{
 "cells": [
  {
   "cell_type": "code",
   "execution_count": 2,
   "id": "c19978d7",
   "metadata": {},
   "outputs": [
    {
     "name": "stdout",
     "output_type": "stream",
     "text": [
      "Variable   Type     Data/Info\n",
      "-----------------------------\n",
      "a          int      12\n",
      "b          float    12.5\n",
      "c          bool     True\n",
      "d          str      vanshaj\n"
     ]
    }
   ],
   "source": [
    "a=12\n",
    "b=12.5\n",
    "c=True\n",
    "d='vanshaj'\n",
    "%whos"
   ]
  },
  {
   "cell_type": "code",
   "execution_count": 1,
   "id": "94973514",
   "metadata": {},
   "outputs": [],
   "source": [
    "list_5 = [5, 3, 1, 1, 5, 4, 3, 2, 1]\n",
    "list_6 =[1, 2, 3, 4, 5, 1, 1, 3, 5]\n",
    "\n",
    "list_6 = list_5"
   ]
  },
  {
   "cell_type": "code",
   "execution_count": 2,
   "id": "db727146",
   "metadata": {},
   "outputs": [
    {
     "data": {
      "text/plain": [
       "[5, 3, 1, 1, 5, 4, 3, 2, 1]"
      ]
     },
     "execution_count": 2,
     "metadata": {},
     "output_type": "execute_result"
    }
   ],
   "source": [
    "list_5"
   ]
  },
  {
   "cell_type": "code",
   "execution_count": 4,
   "id": "188b9fb3",
   "metadata": {},
   "outputs": [
    {
     "data": {
      "text/plain": [
       "[5, 3, 1, 1, 5, 4, 3, 2, 1]"
      ]
     },
     "execution_count": 4,
     "metadata": {},
     "output_type": "execute_result"
    }
   ],
   "source": [
    "list_6"
   ]
  },
  {
   "cell_type": "code",
   "execution_count": 6,
   "id": "a17457a7",
   "metadata": {},
   "outputs": [],
   "source": [
    "list_5.append(13)"
   ]
  },
  {
   "cell_type": "code",
   "execution_count": 7,
   "id": "82ab9d59",
   "metadata": {},
   "outputs": [
    {
     "data": {
      "text/plain": [
       "[5, 3, 1, 1, 5, 4, 3, 2, 1, 13]"
      ]
     },
     "execution_count": 7,
     "metadata": {},
     "output_type": "execute_result"
    }
   ],
   "source": [
    "list_5"
   ]
  },
  {
   "cell_type": "code",
   "execution_count": 8,
   "id": "84389a9b",
   "metadata": {},
   "outputs": [
    {
     "data": {
      "text/plain": [
       "[5, 3, 1, 1, 5, 4, 3, 2, 1, 13]"
      ]
     },
     "execution_count": 8,
     "metadata": {},
     "output_type": "execute_result"
    }
   ],
   "source": [
    "list_6"
   ]
  },
  {
   "cell_type": "code",
   "execution_count": null,
   "id": "2bf5836f",
   "metadata": {},
   "outputs": [],
   "source": []
  }
 ],
 "metadata": {
  "kernelspec": {
   "display_name": "Python 3 (ipykernel)",
   "language": "python",
   "name": "python3"
  },
  "language_info": {
   "codemirror_mode": {
    "name": "ipython",
    "version": 3
   },
   "file_extension": ".py",
   "mimetype": "text/x-python",
   "name": "python",
   "nbconvert_exporter": "python",
   "pygments_lexer": "ipython3",
   "version": "3.11.4"
  }
 },
 "nbformat": 4,
 "nbformat_minor": 5
}
